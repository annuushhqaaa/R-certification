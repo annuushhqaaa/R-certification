{
 "cells": [
  {
   "cell_type": "markdown",
   "metadata": {},
   "source": [
    "<center>\n",
    "<img src=\"https://cf-courses-data.s3.us.cloud-object-storage.appdomain.cloud/IBMDeveloperSkillsNetwork-RP0101EN-Coursera/v2/M5_Final/images/SN_web_lightmode.png\" width=\"300\">\n",
    "</center>\n"
   ]
  },
  {
   "cell_type": "markdown",
   "metadata": {},
   "source": [
    "<h1>Analysis of Global COVID-19 Pandemic Data</h1>\n",
    "\n",
    "Estimated time needed: **90** minutes\n",
    "\n"
   ]
  },
  {
   "cell_type": "markdown",
   "metadata": {},
   "source": [
    "## Overview:\n",
    "\n",
    "There are 10 tasks in this final project. All tasks will be graded by your peers who are also completing this assignment within the same session.\n",
    "\n",
    "You need to submit the following the screenshot for the code and output for each task for review.\n",
    "\n",
    "If you need to refresh your memories about specific coding details, you may refer to previous hands-on labs for code examples.\n"
   ]
  },
  {
   "cell_type": "code",
   "execution_count": 1,
   "metadata": {
    "tags": []
   },
   "outputs": [],
   "source": [
    "# This lab requires 'httr' and 'rvest'packages, which are already pre-loaded into this lab environment.\n",
    "# However, if you are working on your local RStudio, please uncomment the below codes and install the packages.\n",
    "\n",
    "#install.packages(\"httr\")\n",
    "#install.packages(\"rvest\")"
   ]
  },
  {
   "cell_type": "code",
   "execution_count": 1,
   "metadata": {
    "tags": []
   },
   "outputs": [
    {
     "name": "stderr",
     "output_type": "stream",
     "text": [
      "Loading required package: xml2\n"
     ]
    }
   ],
   "source": [
    "library(httr)\n",
    "library(rvest)"
   ]
  },
  {
   "cell_type": "markdown",
   "metadata": {},
   "source": [
    "Note: if you can import above libraries, please use install.packages() to install them first.\n"
   ]
  },
  {
   "cell_type": "markdown",
   "metadata": {},
   "source": [
    "## TASK 1: Get a `COVID-19 pandemic` Wiki page using HTTP request\n"
   ]
  },
  {
   "cell_type": "markdown",
   "metadata": {},
   "source": [
    "First, let's write a function to use HTTP request to get a public COVID-19 Wiki page.\n",
    "\n",
    "Before you write the function, you can open this public page from this \n",
    "\n",
    "URL https://en.wikipedia.org/w/index.php?title=Template:COVID-19_testing_by_country using a web browser.\n",
    "\n",
    "The goal of task 1 is to get the html page using HTTP request (`httr` library)\n"
   ]
  },
  {
   "cell_type": "code",
   "execution_count": 3,
   "metadata": {
    "tags": []
   },
   "outputs": [],
   "source": [
    "\n",
    "get_wiki_covid19_page <- function() {\n",
    "    \n",
    "  # Our target COVID-19 wiki page URL is: https://en.wikipedia.org/w/index.php?title=Template:COVID-19_testing_by_country  \n",
    "  # Which has two parts: \n",
    "    # 1) base URL `https://en.wikipedia.org/w/index.php  \n",
    "    # 2) URL parameter: `title=Template:COVID-19_testing_by_country`, seperated by question mark ?\n",
    "    \n",
    "  # Wiki page base\n",
    "    wiki_base_url <- \"https://en.wikipedia.org/w/index.php\"\n",
    "  # You will need to create a List which has an element called `title` to specify which page you want to get from Wiki\n",
    "  # in our case, it will be `Template:COVID-19_testing_by_country`\n",
    "    query_para <- list(title = 'Template:COVID-19_testing_by_country' )\n",
    "  # - Use the `GET` function in httr library with a `url` argument and a `query` arugment to get a HTTP response\n",
    "    response <- GET(wiki_base_url, query = query_para)\n",
    "  # Use the `return` function to return the response\n",
    "    return (response)\n",
    "}"
   ]
  },
  {
   "cell_type": "markdown",
   "metadata": {},
   "source": [
    "Call the `get_wiki_covid19_page` function to get a http response with the target html page\n"
   ]
  },
  {
   "cell_type": "code",
   "execution_count": 10,
   "metadata": {
    "tags": []
   },
   "outputs": [
    {
     "data": {
      "text/plain": [
       "Response [https://en.wikipedia.org/w/index.php?title=Template%3ACOVID-19_testing_by_country]\n",
       "  Date: 2024-03-20 09:04\n",
       "  Status: 200\n",
       "  Content-Type: text/html; charset=UTF-8\n",
       "  Size: 448 kB\n",
       "<!DOCTYPE html>\n",
       "<html class=\"client-nojs vector-feature-language-in-header-enabled vector-fea...\n",
       "<head>\n",
       "<meta charset=\"UTF-8\">\n",
       "<title>Template:COVID-19 testing by country - Wikipedia</title>\n",
       "<script>(function(){var className=\"client-js vector-feature-language-in-heade...\n",
       "\"wgDigitTransformTable\":[\"\",\"\"],\"wgDefaultDateFormat\":\"dmy\",\"wgMonthNames\":[\"...\n",
       "\"CS1 uses Russian-language script (ru)\",\"CS1 Russian-language sources (ru)\",\"...\n",
       ",\"CS1 Lithuanian-language sources (lt)\",\"CS1 Malagasy-language sources (mg)\",...\n",
       "\"wgRelevantArticleId\":63303421,\"wgIsProbablyEditable\":false,\"wgRelevantPageIs...\n",
       "..."
      ]
     },
     "metadata": {},
     "output_type": "display_data"
    }
   ],
   "source": [
    "# Call the get_wiki_covid19_page function and print the response\n",
    "response <- get_wiki_covid19_page()\n",
    "response"
   ]
  },
  {
   "cell_type": "markdown",
   "metadata": {},
   "source": [
    "## TASK 2: Extract COVID-19 testing data table from the wiki HTML page\n"
   ]
  },
  {
   "cell_type": "markdown",
   "metadata": {},
   "source": [
    "On the COVID-19 testing wiki page, you should see a data table `<table>` node contains COVID-19 testing data by country on the page:\n",
    "\n",
    "<a href=\"https://cognitiveclass.ai/\">\n",
    "    <img src=\"https://cf-courses-data.s3.us.cloud-object-storage.appdomain.cloud/IBMDeveloperSkillsNetwork-RP0101EN-Coursera/v2/M5_Final/images/covid-19-by-country.png\" width=\"400\" align=\"center\">\n",
    "</a>\n",
    "\n",
    "Note the numbers you actually see on your page may be different from above because it is still an on-going pandemic when creating this notebook.\n",
    "\n",
    "The goal of task 2 is to extract above data table and convert it into a data frame\n"
   ]
  },
  {
   "cell_type": "markdown",
   "metadata": {},
   "source": [
    "Now use the `read_html` function in rvest library to get the root html node from response\n"
   ]
  },
  {
   "cell_type": "code",
   "execution_count": 22,
   "metadata": {
    "tags": []
   },
   "outputs": [
    {
     "data": {
      "text/plain": [
       "{html_document}\n",
       "<html class=\"client-nojs vector-feature-language-in-header-enabled vector-feature-language-in-main-page-header-disabled vector-feature-sticky-header-disabled vector-feature-page-tools-pinned-disabled vector-feature-toc-pinned-clientpref-1 vector-feature-main-menu-pinned-disabled vector-feature-limited-width-clientpref-1 vector-feature-limited-width-content-enabled vector-feature-custom-font-size-clientpref-0 vector-feature-client-preferences-disabled vector-feature-client-prefs-pinned-disabled vector-feature-night-mode-disabled skin-night-mode-clientpref-0 vector-toc-available\" lang=\"en\" dir=\"ltr\">\n",
       "[1] <head>\\n<meta http-equiv=\"Content-Type\" content=\"text/html; charset=UTF-8 ...\n",
       "[2] <body class=\"skin-vector skin-vector-search-vue mediawiki ltr sitedir-ltr ..."
      ]
     },
     "metadata": {},
     "output_type": "display_data"
    }
   ],
   "source": [
    "# Get the root html node from the http response in task 1 \n",
    "root_node <- read_html(get_wiki_covid19_page())\n",
    "root_node"
   ]
  },
  {
   "cell_type": "markdown",
   "metadata": {},
   "source": [
    "Get the tables in the HTML root node using `html_nodes` function.\n"
   ]
  },
  {
   "cell_type": "code",
   "execution_count": 27,
   "metadata": {
    "tags": []
   },
   "outputs": [
    {
     "name": "stdout",
     "output_type": "stream",
     "text": [
      "{xml_nodeset (4)}\n",
      "[1] <table class=\"box-Update plainlinks ombox ombox-content ambox-Update\" rol ...\n",
      "[2] <table class=\"wikitable plainrowheaders sortable collapsible autocollapse ...\n",
      "[3] <table class=\"plainlinks ombox mbox-small ombox-notice\" role=\"presentatio ...\n",
      "[4] <table class=\"wikitable mw-templatedata-doc-params\">\\n<caption><p class=\" ...\n"
     ]
    }
   ],
   "source": [
    "# Get the table node from the root html node\n",
    "table_node <- html_nodes(root_node, \"table\")\n",
    "print(table_node)"
   ]
  },
  {
   "cell_type": "markdown",
   "metadata": {},
   "source": [
    "Read the specific table from the multiple tables in the `table_node` using the `html_table` function and convert it into dataframe using `as.data.frame`\n",
    "\n",
    "_Hint:- Please read the `table_node` with index 2(ex:- table_node[2])._\n"
   ]
  },
  {
   "cell_type": "code",
   "execution_count": 35,
   "metadata": {
    "tags": []
   },
   "outputs": [
    {
     "data": {
      "text/html": [
       "<table>\n",
       "<caption>A data.frame: 6 × 9</caption>\n",
       "<thead>\n",
       "\t<tr><th></th><th scope=col>Country.or.region</th><th scope=col>Date.a.</th><th scope=col>Tested</th><th scope=col>Units.b.</th><th scope=col>Confirmed.cases.</th><th scope=col>Confirmed..tested..</th><th scope=col>Tested..population..</th><th scope=col>Confirmed..population..</th><th scope=col>Ref.</th></tr>\n",
       "\t<tr><th></th><th scope=col>&lt;chr&gt;</th><th scope=col>&lt;chr&gt;</th><th scope=col>&lt;chr&gt;</th><th scope=col>&lt;chr&gt;</th><th scope=col>&lt;chr&gt;</th><th scope=col>&lt;chr&gt;</th><th scope=col>&lt;chr&gt;</th><th scope=col>&lt;chr&gt;</th><th scope=col>&lt;chr&gt;</th></tr>\n",
       "</thead>\n",
       "<tbody>\n",
       "\t<tr><th scope=row>1</th><td>Afghanistan        </td><td>17 Dec 2020</td><td>154,767</td><td>samples</td><td>49,621</td><td>32.1</td><td>0.40</td><td>0.13 </td><td>[1]   </td></tr>\n",
       "\t<tr><th scope=row>2</th><td>Albania            </td><td>18 Feb 2021</td><td>428,654</td><td>samples</td><td>96,838</td><td>22.6</td><td>15.0</td><td>3.4  </td><td>[2]   </td></tr>\n",
       "\t<tr><th scope=row>3</th><td>Algeria            </td><td>2 Nov 2020 </td><td>230,553</td><td>samples</td><td>58,574</td><td>25.4</td><td>0.53</td><td>0.13 </td><td>[3][4]</td></tr>\n",
       "\t<tr><th scope=row>4</th><td>Andorra            </td><td>23 Feb 2022</td><td>300,307</td><td>samples</td><td>37,958</td><td>12.6</td><td>387 </td><td>49.0 </td><td>[5]   </td></tr>\n",
       "\t<tr><th scope=row>5</th><td>Angola             </td><td>2 Feb 2021 </td><td>399,228</td><td>samples</td><td>20,981</td><td>5.3 </td><td>1.3 </td><td>0.067</td><td>[6]   </td></tr>\n",
       "\t<tr><th scope=row>6</th><td>Antigua and Barbuda</td><td>6 Mar 2021 </td><td>15,268 </td><td>samples</td><td>832   </td><td>5.4 </td><td>15.9</td><td>0.86 </td><td>[7]   </td></tr>\n",
       "</tbody>\n",
       "</table>\n"
      ],
      "text/latex": [
       "A data.frame: 6 × 9\n",
       "\\begin{tabular}{r|lllllllll}\n",
       "  & Country.or.region & Date.a. & Tested & Units.b. & Confirmed.cases. & Confirmed..tested.. & Tested..population.. & Confirmed..population.. & Ref.\\\\\n",
       "  & <chr> & <chr> & <chr> & <chr> & <chr> & <chr> & <chr> & <chr> & <chr>\\\\\n",
       "\\hline\n",
       "\t1 & Afghanistan         & 17 Dec 2020 & 154,767 & samples & 49,621 & 32.1 & 0.40 & 0.13  & {[}1{]}   \\\\\n",
       "\t2 & Albania             & 18 Feb 2021 & 428,654 & samples & 96,838 & 22.6 & 15.0 & 3.4   & {[}2{]}   \\\\\n",
       "\t3 & Algeria             & 2 Nov 2020  & 230,553 & samples & 58,574 & 25.4 & 0.53 & 0.13  & {[}3{]}{[}4{]}\\\\\n",
       "\t4 & Andorra             & 23 Feb 2022 & 300,307 & samples & 37,958 & 12.6 & 387  & 49.0  & {[}5{]}   \\\\\n",
       "\t5 & Angola              & 2 Feb 2021  & 399,228 & samples & 20,981 & 5.3  & 1.3  & 0.067 & {[}6{]}   \\\\\n",
       "\t6 & Antigua and Barbuda & 6 Mar 2021  & 15,268  & samples & 832    & 5.4  & 15.9 & 0.86  & {[}7{]}   \\\\\n",
       "\\end{tabular}\n"
      ],
      "text/markdown": [
       "\n",
       "A data.frame: 6 × 9\n",
       "\n",
       "| <!--/--> | Country.or.region &lt;chr&gt; | Date.a. &lt;chr&gt; | Tested &lt;chr&gt; | Units.b. &lt;chr&gt; | Confirmed.cases. &lt;chr&gt; | Confirmed..tested.. &lt;chr&gt; | Tested..population.. &lt;chr&gt; | Confirmed..population.. &lt;chr&gt; | Ref. &lt;chr&gt; |\n",
       "|---|---|---|---|---|---|---|---|---|---|\n",
       "| 1 | Afghanistan         | 17 Dec 2020 | 154,767 | samples | 49,621 | 32.1 | 0.40 | 0.13  | [1]    |\n",
       "| 2 | Albania             | 18 Feb 2021 | 428,654 | samples | 96,838 | 22.6 | 15.0 | 3.4   | [2]    |\n",
       "| 3 | Algeria             | 2 Nov 2020  | 230,553 | samples | 58,574 | 25.4 | 0.53 | 0.13  | [3][4] |\n",
       "| 4 | Andorra             | 23 Feb 2022 | 300,307 | samples | 37,958 | 12.6 | 387  | 49.0  | [5]    |\n",
       "| 5 | Angola              | 2 Feb 2021  | 399,228 | samples | 20,981 | 5.3  | 1.3  | 0.067 | [6]    |\n",
       "| 6 | Antigua and Barbuda | 6 Mar 2021  | 15,268  | samples | 832    | 5.4  | 15.9 | 0.86  | [7]    |\n",
       "\n"
      ],
      "text/plain": [
       "  Country.or.region   Date.a.     Tested  Units.b. Confirmed.cases.\n",
       "1 Afghanistan         17 Dec 2020 154,767 samples  49,621          \n",
       "2 Albania             18 Feb 2021 428,654 samples  96,838          \n",
       "3 Algeria             2 Nov 2020  230,553 samples  58,574          \n",
       "4 Andorra             23 Feb 2022 300,307 samples  37,958          \n",
       "5 Angola              2 Feb 2021  399,228 samples  20,981          \n",
       "6 Antigua and Barbuda 6 Mar 2021  15,268  samples  832             \n",
       "  Confirmed..tested.. Tested..population.. Confirmed..population.. Ref.  \n",
       "1 32.1                0.40                 0.13                    [1]   \n",
       "2 22.6                15.0                 3.4                     [2]   \n",
       "3 25.4                0.53                 0.13                    [3][4]\n",
       "4 12.6                387                  49.0                    [5]   \n",
       "5 5.3                 1.3                  0.067                   [6]   \n",
       "6 5.4                 15.9                 0.86                    [7]   "
      ]
     },
     "metadata": {},
     "output_type": "display_data"
    }
   ],
   "source": [
    "# Read the table node and convert it into a data frame, and print the data frame for review\n",
    "covid19_table <- html_table(table_node[2])\n",
    "covid19_df <- as.data.frame(covid19_table)\n",
    "head(covid19_df)"
   ]
  },
  {
   "cell_type": "markdown",
   "metadata": {},
   "source": [
    "## TASK 3: Pre-process and export the extracted data frame\n",
    "\n",
    "The goal of task 3 is to pre-process the extracted data frame from the previous step, and export it as a csv file\n"
   ]
  },
  {
   "cell_type": "markdown",
   "metadata": {},
   "source": [
    "Let's get a summary of the data frame\n"
   ]
  },
  {
   "cell_type": "code",
   "execution_count": 38,
   "metadata": {
    "tags": []
   },
   "outputs": [
    {
     "data": {
      "text/plain": [
       " Country.or.region    Date.a.             Tested            Units.b.        \n",
       " Length:173         Length:173         Length:173         Length:173        \n",
       " Class :character   Class :character   Class :character   Class :character  \n",
       " Mode  :character   Mode  :character   Mode  :character   Mode  :character  \n",
       " Confirmed.cases.   Confirmed..tested.. Tested..population..\n",
       " Length:173         Length:173          Length:173          \n",
       " Class :character   Class :character    Class :character    \n",
       " Mode  :character   Mode  :character    Mode  :character    \n",
       " Confirmed..population..     Ref.          \n",
       " Length:173              Length:173        \n",
       " Class :character        Class :character  \n",
       " Mode  :character        Mode  :character  "
      ]
     },
     "metadata": {},
     "output_type": "display_data"
    }
   ],
   "source": [
    "# Print the summary of the data frame\n",
    "summary(covid19_df)"
   ]
  },
  {
   "cell_type": "markdown",
   "metadata": {},
   "source": [
    "As you can see from the summary, the columns names are little bit different to understand and some column data types are not correct. For example, the `Tested` column shows as `character`. \n",
    "\n",
    "As such, the data frame read from HTML table will need some pre-processing such as removing irrelvant columns, renaming columns, and convert columns into proper data types.\n"
   ]
  },
  {
   "cell_type": "markdown",
   "metadata": {},
   "source": [
    "We have prepared a pre-processing function for you to conver the data frame but you can also try to write one by yourself\n"
   ]
  },
  {
   "cell_type": "code",
   "execution_count": 39,
   "metadata": {
    "tags": []
   },
   "outputs": [],
   "source": [
    "preprocess_covid_data_frame <- function(data_frame) {\n",
    "    \n",
    "    shape <- dim(data_frame)\n",
    "\n",
    "    # Remove the World row\n",
    "    data_frame<-data_frame[!(data_frame$`Country.or.region`==\"World\"),]\n",
    "    # Remove the last row\n",
    "    data_frame <- data_frame[1:172, ]\n",
    "    \n",
    "    # We dont need the Units and Ref columns, so can be removed\n",
    "    data_frame[\"Ref.\"] <- NULL\n",
    "    data_frame[\"Units.b.\"] <- NULL\n",
    "    \n",
    "    # Renaming the columns\n",
    "    names(data_frame) <- c(\"country\", \"date\", \"tested\", \"confirmed\", \"confirmed.tested.ratio\", \"tested.population.ratio\", \"confirmed.population.ratio\")\n",
    "    \n",
    "    # Convert column data types\n",
    "    data_frame$country <- as.factor(data_frame$country)\n",
    "    data_frame$date <- as.factor(data_frame$date)\n",
    "    data_frame$tested <- as.numeric(gsub(\",\",\"\",data_frame$tested))\n",
    "    data_frame$confirmed <- as.numeric(gsub(\",\",\"\",data_frame$confirmed))\n",
    "    data_frame$'confirmed.tested.ratio' <- as.numeric(gsub(\",\",\"\",data_frame$`confirmed.tested.ratio`))\n",
    "    data_frame$'tested.population.ratio' <- as.numeric(gsub(\",\",\"\",data_frame$`tested.population.ratio`))\n",
    "    data_frame$'confirmed.population.ratio' <- as.numeric(gsub(\",\",\"\",data_frame$`confirmed.population.ratio`))\n",
    "    \n",
    "    return(data_frame)\n",
    "}\n"
   ]
  },
  {
   "cell_type": "markdown",
   "metadata": {},
   "source": [
    "Call the `preprocess_covid_data_frame` function\n"
   ]
  },
  {
   "cell_type": "code",
   "execution_count": 40,
   "metadata": {
    "tags": []
   },
   "outputs": [],
   "source": [
    "# call `preprocess_covid_data_frame` function and assign it to a new data frame\n",
    "df2 <- preprocess_covid_data_frame(covid19_df)"
   ]
  },
  {
   "cell_type": "markdown",
   "metadata": {},
   "source": [
    "Get the summary of the processed data frame again\n"
   ]
  },
  {
   "cell_type": "code",
   "execution_count": 41,
   "metadata": {
    "tags": []
   },
   "outputs": [
    {
     "data": {
      "text/plain": [
       "                country             date         tested         \n",
       " Afghanistan        :  1   2 Feb 2023 :  6   Min.   :     3880  \n",
       " Albania            :  1   1 Feb 2023 :  4   1st Qu.:   512037  \n",
       " Algeria            :  1   31 Jan 2023:  4   Median :  3029859  \n",
       " Andorra            :  1   1 Mar 2021 :  3   Mean   : 31377219  \n",
       " Angola             :  1   23 Jul 2021:  3   3rd Qu.: 12386725  \n",
       " Antigua and Barbuda:  1   29 Jan 2023:  3   Max.   :929349291  \n",
       " (Other)            :166   (Other)    :149                      \n",
       "   confirmed        confirmed.tested.ratio tested.population.ratio\n",
       " Min.   :       0   Min.   : 0.00          Min.   :   0.006       \n",
       " 1st Qu.:   37839   1st Qu.: 5.00          1st Qu.:   9.475       \n",
       " Median :  281196   Median :10.05          Median :  46.950       \n",
       " Mean   : 2508340   Mean   :11.25          Mean   : 175.504       \n",
       " 3rd Qu.: 1278105   3rd Qu.:15.25          3rd Qu.: 156.500       \n",
       " Max.   :90749469   Max.   :46.80          Max.   :3223.000       \n",
       "                                                                  \n",
       " confirmed.population.ratio\n",
       " Min.   : 0.000            \n",
       " 1st Qu.: 0.425            \n",
       " Median : 6.100            \n",
       " Mean   :12.769            \n",
       " 3rd Qu.:16.250            \n",
       " Max.   :74.400            \n",
       "                           "
      ]
     },
     "metadata": {},
     "output_type": "display_data"
    }
   ],
   "source": [
    "# Print the summary of the processed data frame again\n",
    "summary(df2)"
   ]
  },
  {
   "cell_type": "markdown",
   "metadata": {},
   "source": [
    "After pre-processing, you can see the columns and columns names are simplified, and columns types are converted into correct types.\n"
   ]
  },
  {
   "cell_type": "markdown",
   "metadata": {},
   "source": [
    "The data frame has following columns:\n",
    "\n",
    "- **country** - The name of the country\n",
    "- **date** - Reported date\n",
    "- **tested** - Total tested cases by the reported date\n",
    "- **confirmed** - Total confirmed cases by the reported date\n",
    "- **confirmed.tested.ratio** - The ratio of confirmed cases to the tested cases\n",
    "- **tested.population.ratio** - The ratio of tested cases to the population of the country\n",
    "- **confirmed.population.ratio** - The ratio of confirmed cases to the population of the country\n"
   ]
  },
  {
   "cell_type": "markdown",
   "metadata": {},
   "source": [
    "OK, we can call `write.csv()` function to save the csv file into a file. \n"
   ]
  },
  {
   "cell_type": "code",
   "execution_count": 44,
   "metadata": {
    "tags": []
   },
   "outputs": [],
   "source": [
    "# Export the data frame to a csv file\n",
    "write.csv(df2, file=\"covid.csv\", row.names = FALSE)"
   ]
  },
  {
   "cell_type": "markdown",
   "metadata": {},
   "source": [
    "Note for IBM Waston Studio, there is no traditional \"hard disk\" associated with a R workspace.\n",
    "\n",
    "Even if you call `write.csv()` method to save the data frame as a csv file, it won't be shown in IBM Cloud Object Storage asset UI automatically.\n",
    "\n",
    "However, you may still check if the `covid.csv` exists using following code snippet:\n"
   ]
  },
  {
   "cell_type": "code",
   "execution_count": 45,
   "metadata": {
    "tags": []
   },
   "outputs": [
    {
     "name": "stdout",
     "output_type": "stream",
     "text": [
      "[1] \"/resources/labs/RP0101EN/covid.csv\"\n"
     ]
    },
    {
     "data": {
      "text/html": [
       "TRUE"
      ],
      "text/latex": [
       "TRUE"
      ],
      "text/markdown": [
       "TRUE"
      ],
      "text/plain": [
       "[1] TRUE"
      ]
     },
     "metadata": {},
     "output_type": "display_data"
    }
   ],
   "source": [
    "# Get working directory\n",
    "wd <- getwd()\n",
    "# Get exported \n",
    "file_path <- paste(wd, sep=\"\", \"/covid.csv\")\n",
    "# File path\n",
    "print(file_path)\n",
    "file.exists(file_path)"
   ]
  },
  {
   "cell_type": "markdown",
   "metadata": {},
   "source": [
    "**Optional Step**: If you have difficulties finishing above webscraping tasks, you may still continue with next tasks by downloading a provided csv file from here:\n"
   ]
  },
  {
   "cell_type": "code",
   "execution_count": null,
   "metadata": {},
   "outputs": [],
   "source": [
    "## Download a sample csv file\n",
    "# covid_csv_file <- download.file(\"https://cf-courses-data.s3.us.cloud-object-storage.appdomain.cloud/IBMDeveloperSkillsNetwork-RP0101EN-Coursera/v2/dataset/covid.csv\", destfile=\"covid.csv\")\n",
    "# covid_data_frame_csv <- read.csv(\"covid.csv\", header=TRUE, sep=\",\")"
   ]
  },
  {
   "cell_type": "markdown",
   "metadata": {},
   "source": [
    "## TASK 4: Get a subset of the extracted data frame\n",
    "\n",
    "The goal of task 4 is to get the 5th to 10th rows from the data frame with only `country` and `confirmed` columns selected\n"
   ]
  },
  {
   "cell_type": "code",
   "execution_count": 46,
   "metadata": {
    "tags": []
   },
   "outputs": [
    {
     "data": {
      "text/html": [
       "<table>\n",
       "<caption>A data.frame: 6 × 2</caption>\n",
       "<thead>\n",
       "\t<tr><th></th><th scope=col>country</th><th scope=col>confirmed</th></tr>\n",
       "\t<tr><th></th><th scope=col>&lt;fct&gt;</th><th scope=col>&lt;int&gt;</th></tr>\n",
       "</thead>\n",
       "<tbody>\n",
       "\t<tr><th scope=row>5</th><td>Angola             </td><td>   20981</td></tr>\n",
       "\t<tr><th scope=row>6</th><td>Antigua and Barbuda</td><td>     832</td></tr>\n",
       "\t<tr><th scope=row>7</th><td>Argentina          </td><td> 9060495</td></tr>\n",
       "\t<tr><th scope=row>8</th><td>Armenia            </td><td>  422963</td></tr>\n",
       "\t<tr><th scope=row>9</th><td>Australia          </td><td>10112229</td></tr>\n",
       "\t<tr><th scope=row>10</th><td>Austria            </td><td> 5789991</td></tr>\n",
       "</tbody>\n",
       "</table>\n"
      ],
      "text/latex": [
       "A data.frame: 6 × 2\n",
       "\\begin{tabular}{r|ll}\n",
       "  & country & confirmed\\\\\n",
       "  & <fct> & <int>\\\\\n",
       "\\hline\n",
       "\t5 & Angola              &    20981\\\\\n",
       "\t6 & Antigua and Barbuda &      832\\\\\n",
       "\t7 & Argentina           &  9060495\\\\\n",
       "\t8 & Armenia             &   422963\\\\\n",
       "\t9 & Australia           & 10112229\\\\\n",
       "\t10 & Austria             &  5789991\\\\\n",
       "\\end{tabular}\n"
      ],
      "text/markdown": [
       "\n",
       "A data.frame: 6 × 2\n",
       "\n",
       "| <!--/--> | country &lt;fct&gt; | confirmed &lt;int&gt; |\n",
       "|---|---|---|\n",
       "| 5 | Angola              |    20981 |\n",
       "| 6 | Antigua and Barbuda |      832 |\n",
       "| 7 | Argentina           |  9060495 |\n",
       "| 8 | Armenia             |   422963 |\n",
       "| 9 | Australia           | 10112229 |\n",
       "| 10 | Austria             |  5789991 |\n",
       "\n"
      ],
      "text/plain": [
       "   country             confirmed\n",
       "5  Angola                 20981 \n",
       "6  Antigua and Barbuda      832 \n",
       "7  Argentina            9060495 \n",
       "8  Armenia               422963 \n",
       "9  Australia           10112229 \n",
       "10 Austria              5789991 "
      ]
     },
     "metadata": {},
     "output_type": "display_data"
    }
   ],
   "source": [
    "# Read covid_data_frame_csv from the csv file\n",
    "covid_data_frame_csv <- read.csv(\"covid.csv\")\n",
    "# Get the 5th to 10th rows, with two \"country\" \"confirmed\" columns\n",
    "covid_data_frame_csv[5:10, c(\"country\", \"confirmed\")]"
   ]
  },
  {
   "cell_type": "markdown",
   "metadata": {},
   "source": [
    "## TASK 5: Calculate worldwide COVID testing positive ratio\n",
    "\n",
    "The goal of task 5 is to get the total confirmed and tested cases worldwide, and try to figure the overall positive ratio using `confirmed cases / tested cases`\n"
   ]
  },
  {
   "cell_type": "code",
   "execution_count": 48,
   "metadata": {
    "tags": []
   },
   "outputs": [],
   "source": [
    "# Get the total confirmed cases worldwide\n",
    "total_confirmed <- sum(covid_data_frame_csv$confirmed)\n",
    "# Get the total tested cases worldwide\n",
    "total_tested <- sum(covid_data_frame_csv$tested)\n",
    "# Get the positive ratio (confirmed / tested)\n",
    "positive_ratio <- (total_confirmed / total_tested)"
   ]
  },
  {
   "cell_type": "code",
   "execution_count": 52,
   "metadata": {
    "tags": []
   },
   "outputs": [
    {
     "name": "stdout",
     "output_type": "stream",
     "text": [
      "Total confirmed cases worldwide: 431434555 \n",
      "Total tested cases worldwide: 5396881644 \n",
      "Overall positive ratio: 0.07994145 \n"
     ]
    }
   ],
   "source": [
    "# Print the results\n",
    "cat(\"Total confirmed cases worldwide:\", total_confirmed, \"\\n\")\n",
    "cat(\"Total tested cases worldwide:\", total_tested, \"\\n\")\n",
    "cat(\"Overall positive ratio:\", positive_ratio, \"\\n\")"
   ]
  },
  {
   "cell_type": "markdown",
   "metadata": {},
   "source": [
    "## TASK 6: Get a country list which reported their testing data \n",
    "\n",
    "The goal of task 6 is to get a catalog or sorted list of countries who have reported their COVID-19 testing data\n"
   ]
  },
  {
   "cell_type": "code",
   "execution_count": 61,
   "metadata": {
    "tags": []
   },
   "outputs": [
    {
     "name": "stdout",
     "output_type": "stream",
     "text": [
      "class is ' factor '\n"
     ]
    },
    {
     "data": {
      "text/html": [
       "<style>\n",
       ".list-inline {list-style: none; margin:0; padding: 0}\n",
       ".list-inline>li {display: inline-block}\n",
       ".list-inline>li:not(:last-child)::after {content: \"\\00b7\"; padding: 0 .5ex}\n",
       "</style>\n",
       "<ol class=list-inline><li>'Afghanistan'</li><li>'Albania'</li><li>'Algeria'</li><li>'Andorra'</li><li>'Angola'</li><li>'Antigua and Barbuda'</li><li>'Argentina'</li><li>'Armenia'</li><li>'Australia'</li><li>'Austria'</li><li>'Azerbaijan'</li><li>'Bahamas'</li><li>'Bahrain'</li><li>'Bangladesh'</li><li>'Barbados'</li><li>'Belarus'</li><li>'Belgium'</li><li>'Belize'</li><li>'Benin'</li><li>'Bhutan'</li><li>'Bolivia'</li><li>'Bosnia and Herzegovina'</li><li>'Botswana'</li><li>'Brazil'</li><li>'Brunei'</li><li>'Bulgaria'</li><li>'Burkina Faso'</li><li>'Burundi'</li><li>'Cambodia'</li><li>'Cameroon'</li><li>'Canada'</li><li>'Chad'</li><li>'Chile'</li><li>'China[c]'</li><li>'Colombia'</li><li>'Costa Rica'</li><li>'Croatia'</li><li>'Cuba'</li><li>'Cyprus[d]'</li><li>'Czechia'</li><li>'Denmark[e]'</li><li>'Djibouti'</li><li>'Dominica'</li><li>'Dominican Republic'</li><li>'DR Congo'</li><li>'Ecuador'</li><li>'Egypt'</li><li>'El Salvador'</li><li>'Equatorial Guinea'</li><li>'Estonia'</li><li>'Eswatini'</li><li>'Ethiopia'</li><li>'Faroe Islands'</li><li>'Fiji'</li><li>'Finland'</li><li>'France[f][g]'</li><li>'Gabon'</li><li>'Gambia'</li><li>'Georgia[h]'</li><li>'Germany'</li><li>'Ghana'</li><li>'Greece'</li><li>'Greenland'</li><li>'Grenada'</li><li>'Guatemala'</li><li>'Guinea'</li><li>'Guinea-Bissau'</li><li>'Guyana'</li><li>'Haiti'</li><li>'Honduras'</li><li>'Hungary'</li><li>'Iceland'</li><li>'India'</li><li>'Indonesia'</li><li>'Iran'</li><li>'Iraq'</li><li>'Ireland'</li><li>'Israel'</li><li>'Italy'</li><li>'Ivory Coast'</li><li>'Jamaica'</li><li>'Japan'</li><li>'Jordan'</li><li>'Kazakhstan'</li><li>'Kenya'</li><li>'Kosovo'</li><li>'Kuwait'</li><li>'Kyrgyzstan'</li><li>'Laos'</li><li>'Latvia'</li><li>'Lebanon'</li><li>'Lesotho'</li><li>'Liberia'</li><li>'Libya'</li><li>'Lithuania'</li><li>'Luxembourg[i]'</li><li>'Madagascar'</li><li>'Malawi'</li><li>'Malaysia'</li><li>'Maldives'</li><li>'Mali'</li><li>'Malta'</li><li>'Mauritania'</li><li>'Mauritius'</li><li>'Mexico'</li><li>'Moldova[j]'</li><li>'Mongolia'</li><li>'Montenegro'</li><li>'Morocco'</li><li>'Mozambique'</li><li>'Myanmar'</li><li>'Namibia'</li><li>'Nepal'</li><li>'Netherlands'</li><li>'New Caledonia'</li><li>'New Zealand'</li><li>'Niger'</li><li>'Nigeria'</li><li>'North Korea'</li><li>'North Macedonia'</li><li>'Northern Cyprus[k]'</li><li>'Norway'</li><li>'Oman'</li><li>'Pakistan'</li><li>'Palestine'</li><li>'Panama'</li><li>'Papua New Guinea'</li><li>'Paraguay'</li><li>'Peru'</li><li>'Philippines'</li><li>'Poland'</li><li>'Portugal'</li><li>'Qatar'</li><li>'Romania'</li><li>'Russia'</li><li>'Rwanda'</li><li>'Saint Kitts and Nevis'</li><li>'Saint Lucia'</li><li>'Saint Vincent'</li><li>'San Marino'</li><li>'Saudi Arabia'</li><li>'Senegal'</li><li>'Serbia'</li><li>'Singapore'</li><li>'Slovakia'</li><li>'Slovenia'</li><li>'South Africa'</li><li>'South Korea'</li><li>'South Sudan'</li><li>'Spain'</li><li>'Sri Lanka'</li><li>'Sudan'</li><li>'Sweden'</li><li>'Switzerland[l]'</li><li>'Taiwan[m]'</li><li>'Tanzania'</li><li>'Thailand'</li><li>'Togo'</li><li>'Trinidad and Tobago'</li><li>'Tunisia'</li><li>'Turkey'</li><li>'Uganda'</li><li>'Ukraine'</li><li>'United Arab Emirates'</li><li>'United Kingdom'</li><li>'United States'</li><li>'Uruguay'</li><li>'Uzbekistan'</li><li>'Venezuela'</li><li>'Vietnam'</li><li>'Zambia'</li><li>'Zimbabwe'</li></ol>\n"
      ],
      "text/latex": [
       "\\begin{enumerate*}\n",
       "\\item 'Afghanistan'\n",
       "\\item 'Albania'\n",
       "\\item 'Algeria'\n",
       "\\item 'Andorra'\n",
       "\\item 'Angola'\n",
       "\\item 'Antigua and Barbuda'\n",
       "\\item 'Argentina'\n",
       "\\item 'Armenia'\n",
       "\\item 'Australia'\n",
       "\\item 'Austria'\n",
       "\\item 'Azerbaijan'\n",
       "\\item 'Bahamas'\n",
       "\\item 'Bahrain'\n",
       "\\item 'Bangladesh'\n",
       "\\item 'Barbados'\n",
       "\\item 'Belarus'\n",
       "\\item 'Belgium'\n",
       "\\item 'Belize'\n",
       "\\item 'Benin'\n",
       "\\item 'Bhutan'\n",
       "\\item 'Bolivia'\n",
       "\\item 'Bosnia and Herzegovina'\n",
       "\\item 'Botswana'\n",
       "\\item 'Brazil'\n",
       "\\item 'Brunei'\n",
       "\\item 'Bulgaria'\n",
       "\\item 'Burkina Faso'\n",
       "\\item 'Burundi'\n",
       "\\item 'Cambodia'\n",
       "\\item 'Cameroon'\n",
       "\\item 'Canada'\n",
       "\\item 'Chad'\n",
       "\\item 'Chile'\n",
       "\\item 'China{[}c{]}'\n",
       "\\item 'Colombia'\n",
       "\\item 'Costa Rica'\n",
       "\\item 'Croatia'\n",
       "\\item 'Cuba'\n",
       "\\item 'Cyprus{[}d{]}'\n",
       "\\item 'Czechia'\n",
       "\\item 'Denmark{[}e{]}'\n",
       "\\item 'Djibouti'\n",
       "\\item 'Dominica'\n",
       "\\item 'Dominican Republic'\n",
       "\\item 'DR Congo'\n",
       "\\item 'Ecuador'\n",
       "\\item 'Egypt'\n",
       "\\item 'El Salvador'\n",
       "\\item 'Equatorial Guinea'\n",
       "\\item 'Estonia'\n",
       "\\item 'Eswatini'\n",
       "\\item 'Ethiopia'\n",
       "\\item 'Faroe Islands'\n",
       "\\item 'Fiji'\n",
       "\\item 'Finland'\n",
       "\\item 'France{[}f{]}{[}g{]}'\n",
       "\\item 'Gabon'\n",
       "\\item 'Gambia'\n",
       "\\item 'Georgia{[}h{]}'\n",
       "\\item 'Germany'\n",
       "\\item 'Ghana'\n",
       "\\item 'Greece'\n",
       "\\item 'Greenland'\n",
       "\\item 'Grenada'\n",
       "\\item 'Guatemala'\n",
       "\\item 'Guinea'\n",
       "\\item 'Guinea-Bissau'\n",
       "\\item 'Guyana'\n",
       "\\item 'Haiti'\n",
       "\\item 'Honduras'\n",
       "\\item 'Hungary'\n",
       "\\item 'Iceland'\n",
       "\\item 'India'\n",
       "\\item 'Indonesia'\n",
       "\\item 'Iran'\n",
       "\\item 'Iraq'\n",
       "\\item 'Ireland'\n",
       "\\item 'Israel'\n",
       "\\item 'Italy'\n",
       "\\item 'Ivory Coast'\n",
       "\\item 'Jamaica'\n",
       "\\item 'Japan'\n",
       "\\item 'Jordan'\n",
       "\\item 'Kazakhstan'\n",
       "\\item 'Kenya'\n",
       "\\item 'Kosovo'\n",
       "\\item 'Kuwait'\n",
       "\\item 'Kyrgyzstan'\n",
       "\\item 'Laos'\n",
       "\\item 'Latvia'\n",
       "\\item 'Lebanon'\n",
       "\\item 'Lesotho'\n",
       "\\item 'Liberia'\n",
       "\\item 'Libya'\n",
       "\\item 'Lithuania'\n",
       "\\item 'Luxembourg{[}i{]}'\n",
       "\\item 'Madagascar'\n",
       "\\item 'Malawi'\n",
       "\\item 'Malaysia'\n",
       "\\item 'Maldives'\n",
       "\\item 'Mali'\n",
       "\\item 'Malta'\n",
       "\\item 'Mauritania'\n",
       "\\item 'Mauritius'\n",
       "\\item 'Mexico'\n",
       "\\item 'Moldova{[}j{]}'\n",
       "\\item 'Mongolia'\n",
       "\\item 'Montenegro'\n",
       "\\item 'Morocco'\n",
       "\\item 'Mozambique'\n",
       "\\item 'Myanmar'\n",
       "\\item 'Namibia'\n",
       "\\item 'Nepal'\n",
       "\\item 'Netherlands'\n",
       "\\item 'New Caledonia'\n",
       "\\item 'New Zealand'\n",
       "\\item 'Niger'\n",
       "\\item 'Nigeria'\n",
       "\\item 'North Korea'\n",
       "\\item 'North Macedonia'\n",
       "\\item 'Northern Cyprus{[}k{]}'\n",
       "\\item 'Norway'\n",
       "\\item 'Oman'\n",
       "\\item 'Pakistan'\n",
       "\\item 'Palestine'\n",
       "\\item 'Panama'\n",
       "\\item 'Papua New Guinea'\n",
       "\\item 'Paraguay'\n",
       "\\item 'Peru'\n",
       "\\item 'Philippines'\n",
       "\\item 'Poland'\n",
       "\\item 'Portugal'\n",
       "\\item 'Qatar'\n",
       "\\item 'Romania'\n",
       "\\item 'Russia'\n",
       "\\item 'Rwanda'\n",
       "\\item 'Saint Kitts and Nevis'\n",
       "\\item 'Saint Lucia'\n",
       "\\item 'Saint Vincent'\n",
       "\\item 'San Marino'\n",
       "\\item 'Saudi Arabia'\n",
       "\\item 'Senegal'\n",
       "\\item 'Serbia'\n",
       "\\item 'Singapore'\n",
       "\\item 'Slovakia'\n",
       "\\item 'Slovenia'\n",
       "\\item 'South Africa'\n",
       "\\item 'South Korea'\n",
       "\\item 'South Sudan'\n",
       "\\item 'Spain'\n",
       "\\item 'Sri Lanka'\n",
       "\\item 'Sudan'\n",
       "\\item 'Sweden'\n",
       "\\item 'Switzerland{[}l{]}'\n",
       "\\item 'Taiwan{[}m{]}'\n",
       "\\item 'Tanzania'\n",
       "\\item 'Thailand'\n",
       "\\item 'Togo'\n",
       "\\item 'Trinidad and Tobago'\n",
       "\\item 'Tunisia'\n",
       "\\item 'Turkey'\n",
       "\\item 'Uganda'\n",
       "\\item 'Ukraine'\n",
       "\\item 'United Arab Emirates'\n",
       "\\item 'United Kingdom'\n",
       "\\item 'United States'\n",
       "\\item 'Uruguay'\n",
       "\\item 'Uzbekistan'\n",
       "\\item 'Venezuela'\n",
       "\\item 'Vietnam'\n",
       "\\item 'Zambia'\n",
       "\\item 'Zimbabwe'\n",
       "\\end{enumerate*}\n"
      ],
      "text/markdown": [
       "1. 'Afghanistan'\n",
       "2. 'Albania'\n",
       "3. 'Algeria'\n",
       "4. 'Andorra'\n",
       "5. 'Angola'\n",
       "6. 'Antigua and Barbuda'\n",
       "7. 'Argentina'\n",
       "8. 'Armenia'\n",
       "9. 'Australia'\n",
       "10. 'Austria'\n",
       "11. 'Azerbaijan'\n",
       "12. 'Bahamas'\n",
       "13. 'Bahrain'\n",
       "14. 'Bangladesh'\n",
       "15. 'Barbados'\n",
       "16. 'Belarus'\n",
       "17. 'Belgium'\n",
       "18. 'Belize'\n",
       "19. 'Benin'\n",
       "20. 'Bhutan'\n",
       "21. 'Bolivia'\n",
       "22. 'Bosnia and Herzegovina'\n",
       "23. 'Botswana'\n",
       "24. 'Brazil'\n",
       "25. 'Brunei'\n",
       "26. 'Bulgaria'\n",
       "27. 'Burkina Faso'\n",
       "28. 'Burundi'\n",
       "29. 'Cambodia'\n",
       "30. 'Cameroon'\n",
       "31. 'Canada'\n",
       "32. 'Chad'\n",
       "33. 'Chile'\n",
       "34. 'China[c]'\n",
       "35. 'Colombia'\n",
       "36. 'Costa Rica'\n",
       "37. 'Croatia'\n",
       "38. 'Cuba'\n",
       "39. 'Cyprus[d]'\n",
       "40. 'Czechia'\n",
       "41. 'Denmark[e]'\n",
       "42. 'Djibouti'\n",
       "43. 'Dominica'\n",
       "44. 'Dominican Republic'\n",
       "45. 'DR Congo'\n",
       "46. 'Ecuador'\n",
       "47. 'Egypt'\n",
       "48. 'El Salvador'\n",
       "49. 'Equatorial Guinea'\n",
       "50. 'Estonia'\n",
       "51. 'Eswatini'\n",
       "52. 'Ethiopia'\n",
       "53. 'Faroe Islands'\n",
       "54. 'Fiji'\n",
       "55. 'Finland'\n",
       "56. 'France[f][g]'\n",
       "57. 'Gabon'\n",
       "58. 'Gambia'\n",
       "59. 'Georgia[h]'\n",
       "60. 'Germany'\n",
       "61. 'Ghana'\n",
       "62. 'Greece'\n",
       "63. 'Greenland'\n",
       "64. 'Grenada'\n",
       "65. 'Guatemala'\n",
       "66. 'Guinea'\n",
       "67. 'Guinea-Bissau'\n",
       "68. 'Guyana'\n",
       "69. 'Haiti'\n",
       "70. 'Honduras'\n",
       "71. 'Hungary'\n",
       "72. 'Iceland'\n",
       "73. 'India'\n",
       "74. 'Indonesia'\n",
       "75. 'Iran'\n",
       "76. 'Iraq'\n",
       "77. 'Ireland'\n",
       "78. 'Israel'\n",
       "79. 'Italy'\n",
       "80. 'Ivory Coast'\n",
       "81. 'Jamaica'\n",
       "82. 'Japan'\n",
       "83. 'Jordan'\n",
       "84. 'Kazakhstan'\n",
       "85. 'Kenya'\n",
       "86. 'Kosovo'\n",
       "87. 'Kuwait'\n",
       "88. 'Kyrgyzstan'\n",
       "89. 'Laos'\n",
       "90. 'Latvia'\n",
       "91. 'Lebanon'\n",
       "92. 'Lesotho'\n",
       "93. 'Liberia'\n",
       "94. 'Libya'\n",
       "95. 'Lithuania'\n",
       "96. 'Luxembourg[i]'\n",
       "97. 'Madagascar'\n",
       "98. 'Malawi'\n",
       "99. 'Malaysia'\n",
       "100. 'Maldives'\n",
       "101. 'Mali'\n",
       "102. 'Malta'\n",
       "103. 'Mauritania'\n",
       "104. 'Mauritius'\n",
       "105. 'Mexico'\n",
       "106. 'Moldova[j]'\n",
       "107. 'Mongolia'\n",
       "108. 'Montenegro'\n",
       "109. 'Morocco'\n",
       "110. 'Mozambique'\n",
       "111. 'Myanmar'\n",
       "112. 'Namibia'\n",
       "113. 'Nepal'\n",
       "114. 'Netherlands'\n",
       "115. 'New Caledonia'\n",
       "116. 'New Zealand'\n",
       "117. 'Niger'\n",
       "118. 'Nigeria'\n",
       "119. 'North Korea'\n",
       "120. 'North Macedonia'\n",
       "121. 'Northern Cyprus[k]'\n",
       "122. 'Norway'\n",
       "123. 'Oman'\n",
       "124. 'Pakistan'\n",
       "125. 'Palestine'\n",
       "126. 'Panama'\n",
       "127. 'Papua New Guinea'\n",
       "128. 'Paraguay'\n",
       "129. 'Peru'\n",
       "130. 'Philippines'\n",
       "131. 'Poland'\n",
       "132. 'Portugal'\n",
       "133. 'Qatar'\n",
       "134. 'Romania'\n",
       "135. 'Russia'\n",
       "136. 'Rwanda'\n",
       "137. 'Saint Kitts and Nevis'\n",
       "138. 'Saint Lucia'\n",
       "139. 'Saint Vincent'\n",
       "140. 'San Marino'\n",
       "141. 'Saudi Arabia'\n",
       "142. 'Senegal'\n",
       "143. 'Serbia'\n",
       "144. 'Singapore'\n",
       "145. 'Slovakia'\n",
       "146. 'Slovenia'\n",
       "147. 'South Africa'\n",
       "148. 'South Korea'\n",
       "149. 'South Sudan'\n",
       "150. 'Spain'\n",
       "151. 'Sri Lanka'\n",
       "152. 'Sudan'\n",
       "153. 'Sweden'\n",
       "154. 'Switzerland[l]'\n",
       "155. 'Taiwan[m]'\n",
       "156. 'Tanzania'\n",
       "157. 'Thailand'\n",
       "158. 'Togo'\n",
       "159. 'Trinidad and Tobago'\n",
       "160. 'Tunisia'\n",
       "161. 'Turkey'\n",
       "162. 'Uganda'\n",
       "163. 'Ukraine'\n",
       "164. 'United Arab Emirates'\n",
       "165. 'United Kingdom'\n",
       "166. 'United States'\n",
       "167. 'Uruguay'\n",
       "168. 'Uzbekistan'\n",
       "169. 'Venezuela'\n",
       "170. 'Vietnam'\n",
       "171. 'Zambia'\n",
       "172. 'Zimbabwe'\n",
       "\n",
       "\n"
      ],
      "text/plain": [
       "  [1] \"Afghanistan\"            \"Albania\"                \"Algeria\"               \n",
       "  [4] \"Andorra\"                \"Angola\"                 \"Antigua and Barbuda\"   \n",
       "  [7] \"Argentina\"              \"Armenia\"                \"Australia\"             \n",
       " [10] \"Austria\"                \"Azerbaijan\"             \"Bahamas\"               \n",
       " [13] \"Bahrain\"                \"Bangladesh\"             \"Barbados\"              \n",
       " [16] \"Belarus\"                \"Belgium\"                \"Belize\"                \n",
       " [19] \"Benin\"                  \"Bhutan\"                 \"Bolivia\"               \n",
       " [22] \"Bosnia and Herzegovina\" \"Botswana\"               \"Brazil\"                \n",
       " [25] \"Brunei\"                 \"Bulgaria\"               \"Burkina Faso\"          \n",
       " [28] \"Burundi\"                \"Cambodia\"               \"Cameroon\"              \n",
       " [31] \"Canada\"                 \"Chad\"                   \"Chile\"                 \n",
       " [34] \"China[c]\"               \"Colombia\"               \"Costa Rica\"            \n",
       " [37] \"Croatia\"                \"Cuba\"                   \"Cyprus[d]\"             \n",
       " [40] \"Czechia\"                \"Denmark[e]\"             \"Djibouti\"              \n",
       " [43] \"Dominica\"               \"Dominican Republic\"     \"DR Congo\"              \n",
       " [46] \"Ecuador\"                \"Egypt\"                  \"El Salvador\"           \n",
       " [49] \"Equatorial Guinea\"      \"Estonia\"                \"Eswatini\"              \n",
       " [52] \"Ethiopia\"               \"Faroe Islands\"          \"Fiji\"                  \n",
       " [55] \"Finland\"                \"France[f][g]\"           \"Gabon\"                 \n",
       " [58] \"Gambia\"                 \"Georgia[h]\"             \"Germany\"               \n",
       " [61] \"Ghana\"                  \"Greece\"                 \"Greenland\"             \n",
       " [64] \"Grenada\"                \"Guatemala\"              \"Guinea\"                \n",
       " [67] \"Guinea-Bissau\"          \"Guyana\"                 \"Haiti\"                 \n",
       " [70] \"Honduras\"               \"Hungary\"                \"Iceland\"               \n",
       " [73] \"India\"                  \"Indonesia\"              \"Iran\"                  \n",
       " [76] \"Iraq\"                   \"Ireland\"                \"Israel\"                \n",
       " [79] \"Italy\"                  \"Ivory Coast\"            \"Jamaica\"               \n",
       " [82] \"Japan\"                  \"Jordan\"                 \"Kazakhstan\"            \n",
       " [85] \"Kenya\"                  \"Kosovo\"                 \"Kuwait\"                \n",
       " [88] \"Kyrgyzstan\"             \"Laos\"                   \"Latvia\"                \n",
       " [91] \"Lebanon\"                \"Lesotho\"                \"Liberia\"               \n",
       " [94] \"Libya\"                  \"Lithuania\"              \"Luxembourg[i]\"         \n",
       " [97] \"Madagascar\"             \"Malawi\"                 \"Malaysia\"              \n",
       "[100] \"Maldives\"               \"Mali\"                   \"Malta\"                 \n",
       "[103] \"Mauritania\"             \"Mauritius\"              \"Mexico\"                \n",
       "[106] \"Moldova[j]\"             \"Mongolia\"               \"Montenegro\"            \n",
       "[109] \"Morocco\"                \"Mozambique\"             \"Myanmar\"               \n",
       "[112] \"Namibia\"                \"Nepal\"                  \"Netherlands\"           \n",
       "[115] \"New Caledonia\"          \"New Zealand\"            \"Niger\"                 \n",
       "[118] \"Nigeria\"                \"North Korea\"            \"North Macedonia\"       \n",
       "[121] \"Northern Cyprus[k]\"     \"Norway\"                 \"Oman\"                  \n",
       "[124] \"Pakistan\"               \"Palestine\"              \"Panama\"                \n",
       "[127] \"Papua New Guinea\"       \"Paraguay\"               \"Peru\"                  \n",
       "[130] \"Philippines\"            \"Poland\"                 \"Portugal\"              \n",
       "[133] \"Qatar\"                  \"Romania\"                \"Russia\"                \n",
       "[136] \"Rwanda\"                 \"Saint Kitts and Nevis\"  \"Saint Lucia\"           \n",
       "[139] \"Saint Vincent\"          \"San Marino\"             \"Saudi Arabia\"          \n",
       "[142] \"Senegal\"                \"Serbia\"                 \"Singapore\"             \n",
       "[145] \"Slovakia\"               \"Slovenia\"               \"South Africa\"          \n",
       "[148] \"South Korea\"            \"South Sudan\"            \"Spain\"                 \n",
       "[151] \"Sri Lanka\"              \"Sudan\"                  \"Sweden\"                \n",
       "[154] \"Switzerland[l]\"         \"Taiwan[m]\"              \"Tanzania\"              \n",
       "[157] \"Thailand\"               \"Togo\"                   \"Trinidad and Tobago\"   \n",
       "[160] \"Tunisia\"                \"Turkey\"                 \"Uganda\"                \n",
       "[163] \"Ukraine\"                \"United Arab Emirates\"   \"United Kingdom\"        \n",
       "[166] \"United States\"          \"Uruguay\"                \"Uzbekistan\"            \n",
       "[169] \"Venezuela\"              \"Vietnam\"                \"Zambia\"                \n",
       "[172] \"Zimbabwe\"              "
      ]
     },
     "metadata": {},
     "output_type": "display_data"
    },
    {
     "data": {
      "text/html": [
       "<style>\n",
       ".list-inline {list-style: none; margin:0; padding: 0}\n",
       ".list-inline>li {display: inline-block}\n",
       ".list-inline>li:not(:last-child)::after {content: \"\\00b7\"; padding: 0 .5ex}\n",
       "</style>\n",
       "<ol class=list-inline><li>'Zimbabwe'</li><li>'Zambia'</li><li>'Vietnam'</li><li>'Venezuela'</li><li>'Uzbekistan'</li><li>'Uruguay'</li><li>'United States'</li><li>'United Kingdom'</li><li>'United Arab Emirates'</li><li>'Ukraine'</li><li>'Uganda'</li><li>'Turkey'</li><li>'Tunisia'</li><li>'Trinidad and Tobago'</li><li>'Togo'</li><li>'Thailand'</li><li>'Tanzania'</li><li>'Taiwan[m]'</li><li>'Switzerland[l]'</li><li>'Sweden'</li><li>'Sudan'</li><li>'Sri Lanka'</li><li>'Spain'</li><li>'South Sudan'</li><li>'South Korea'</li><li>'South Africa'</li><li>'Slovenia'</li><li>'Slovakia'</li><li>'Singapore'</li><li>'Serbia'</li><li>'Senegal'</li><li>'Saudi Arabia'</li><li>'San Marino'</li><li>'Saint Vincent'</li><li>'Saint Lucia'</li><li>'Saint Kitts and Nevis'</li><li>'Rwanda'</li><li>'Russia'</li><li>'Romania'</li><li>'Qatar'</li><li>'Portugal'</li><li>'Poland'</li><li>'Philippines'</li><li>'Peru'</li><li>'Paraguay'</li><li>'Papua New Guinea'</li><li>'Panama'</li><li>'Palestine'</li><li>'Pakistan'</li><li>'Oman'</li><li>'Norway'</li><li>'Northern Cyprus[k]'</li><li>'North Macedonia'</li><li>'North Korea'</li><li>'Nigeria'</li><li>'Niger'</li><li>'New Zealand'</li><li>'New Caledonia'</li><li>'Netherlands'</li><li>'Nepal'</li><li>'Namibia'</li><li>'Myanmar'</li><li>'Mozambique'</li><li>'Morocco'</li><li>'Montenegro'</li><li>'Mongolia'</li><li>'Moldova[j]'</li><li>'Mexico'</li><li>'Mauritius'</li><li>'Mauritania'</li><li>'Malta'</li><li>'Mali'</li><li>'Maldives'</li><li>'Malaysia'</li><li>'Malawi'</li><li>'Madagascar'</li><li>'Luxembourg[i]'</li><li>'Lithuania'</li><li>'Libya'</li><li>'Liberia'</li><li>'Lesotho'</li><li>'Lebanon'</li><li>'Latvia'</li><li>'Laos'</li><li>'Kyrgyzstan'</li><li>'Kuwait'</li><li>'Kosovo'</li><li>'Kenya'</li><li>'Kazakhstan'</li><li>'Jordan'</li><li>'Japan'</li><li>'Jamaica'</li><li>'Ivory Coast'</li><li>'Italy'</li><li>'Israel'</li><li>'Ireland'</li><li>'Iraq'</li><li>'Iran'</li><li>'Indonesia'</li><li>'India'</li><li>'Iceland'</li><li>'Hungary'</li><li>'Honduras'</li><li>'Haiti'</li><li>'Guyana'</li><li>'Guinea-Bissau'</li><li>'Guinea'</li><li>'Guatemala'</li><li>'Grenada'</li><li>'Greenland'</li><li>'Greece'</li><li>'Ghana'</li><li>'Germany'</li><li>'Georgia[h]'</li><li>'Gambia'</li><li>'Gabon'</li><li>'France[f][g]'</li><li>'Finland'</li><li>'Fiji'</li><li>'Faroe Islands'</li><li>'Ethiopia'</li><li>'Eswatini'</li><li>'Estonia'</li><li>'Equatorial Guinea'</li><li>'El Salvador'</li><li>'Egypt'</li><li>'Ecuador'</li><li>'DR Congo'</li><li>'Dominican Republic'</li><li>'Dominica'</li><li>'Djibouti'</li><li>'Denmark[e]'</li><li>'Czechia'</li><li>'Cyprus[d]'</li><li>'Cuba'</li><li>'Croatia'</li><li>'Costa Rica'</li><li>'Colombia'</li><li>'China[c]'</li><li>'Chile'</li><li>'Chad'</li><li>'Canada'</li><li>'Cameroon'</li><li>'Cambodia'</li><li>'Burundi'</li><li>'Burkina Faso'</li><li>'Bulgaria'</li><li>'Brunei'</li><li>'Brazil'</li><li>'Botswana'</li><li>'Bosnia and Herzegovina'</li><li>'Bolivia'</li><li>'Bhutan'</li><li>'Benin'</li><li>'Belize'</li><li>'Belgium'</li><li>'Belarus'</li><li>'Barbados'</li><li>'Bangladesh'</li><li>'Bahrain'</li><li>'Bahamas'</li><li>'Azerbaijan'</li><li>'Austria'</li><li>'Australia'</li><li>'Armenia'</li><li>'Argentina'</li><li>'Antigua and Barbuda'</li><li>'Angola'</li><li>'Andorra'</li><li>'Algeria'</li><li>'Albania'</li><li>'Afghanistan'</li></ol>\n"
      ],
      "text/latex": [
       "\\begin{enumerate*}\n",
       "\\item 'Zimbabwe'\n",
       "\\item 'Zambia'\n",
       "\\item 'Vietnam'\n",
       "\\item 'Venezuela'\n",
       "\\item 'Uzbekistan'\n",
       "\\item 'Uruguay'\n",
       "\\item 'United States'\n",
       "\\item 'United Kingdom'\n",
       "\\item 'United Arab Emirates'\n",
       "\\item 'Ukraine'\n",
       "\\item 'Uganda'\n",
       "\\item 'Turkey'\n",
       "\\item 'Tunisia'\n",
       "\\item 'Trinidad and Tobago'\n",
       "\\item 'Togo'\n",
       "\\item 'Thailand'\n",
       "\\item 'Tanzania'\n",
       "\\item 'Taiwan{[}m{]}'\n",
       "\\item 'Switzerland{[}l{]}'\n",
       "\\item 'Sweden'\n",
       "\\item 'Sudan'\n",
       "\\item 'Sri Lanka'\n",
       "\\item 'Spain'\n",
       "\\item 'South Sudan'\n",
       "\\item 'South Korea'\n",
       "\\item 'South Africa'\n",
       "\\item 'Slovenia'\n",
       "\\item 'Slovakia'\n",
       "\\item 'Singapore'\n",
       "\\item 'Serbia'\n",
       "\\item 'Senegal'\n",
       "\\item 'Saudi Arabia'\n",
       "\\item 'San Marino'\n",
       "\\item 'Saint Vincent'\n",
       "\\item 'Saint Lucia'\n",
       "\\item 'Saint Kitts and Nevis'\n",
       "\\item 'Rwanda'\n",
       "\\item 'Russia'\n",
       "\\item 'Romania'\n",
       "\\item 'Qatar'\n",
       "\\item 'Portugal'\n",
       "\\item 'Poland'\n",
       "\\item 'Philippines'\n",
       "\\item 'Peru'\n",
       "\\item 'Paraguay'\n",
       "\\item 'Papua New Guinea'\n",
       "\\item 'Panama'\n",
       "\\item 'Palestine'\n",
       "\\item 'Pakistan'\n",
       "\\item 'Oman'\n",
       "\\item 'Norway'\n",
       "\\item 'Northern Cyprus{[}k{]}'\n",
       "\\item 'North Macedonia'\n",
       "\\item 'North Korea'\n",
       "\\item 'Nigeria'\n",
       "\\item 'Niger'\n",
       "\\item 'New Zealand'\n",
       "\\item 'New Caledonia'\n",
       "\\item 'Netherlands'\n",
       "\\item 'Nepal'\n",
       "\\item 'Namibia'\n",
       "\\item 'Myanmar'\n",
       "\\item 'Mozambique'\n",
       "\\item 'Morocco'\n",
       "\\item 'Montenegro'\n",
       "\\item 'Mongolia'\n",
       "\\item 'Moldova{[}j{]}'\n",
       "\\item 'Mexico'\n",
       "\\item 'Mauritius'\n",
       "\\item 'Mauritania'\n",
       "\\item 'Malta'\n",
       "\\item 'Mali'\n",
       "\\item 'Maldives'\n",
       "\\item 'Malaysia'\n",
       "\\item 'Malawi'\n",
       "\\item 'Madagascar'\n",
       "\\item 'Luxembourg{[}i{]}'\n",
       "\\item 'Lithuania'\n",
       "\\item 'Libya'\n",
       "\\item 'Liberia'\n",
       "\\item 'Lesotho'\n",
       "\\item 'Lebanon'\n",
       "\\item 'Latvia'\n",
       "\\item 'Laos'\n",
       "\\item 'Kyrgyzstan'\n",
       "\\item 'Kuwait'\n",
       "\\item 'Kosovo'\n",
       "\\item 'Kenya'\n",
       "\\item 'Kazakhstan'\n",
       "\\item 'Jordan'\n",
       "\\item 'Japan'\n",
       "\\item 'Jamaica'\n",
       "\\item 'Ivory Coast'\n",
       "\\item 'Italy'\n",
       "\\item 'Israel'\n",
       "\\item 'Ireland'\n",
       "\\item 'Iraq'\n",
       "\\item 'Iran'\n",
       "\\item 'Indonesia'\n",
       "\\item 'India'\n",
       "\\item 'Iceland'\n",
       "\\item 'Hungary'\n",
       "\\item 'Honduras'\n",
       "\\item 'Haiti'\n",
       "\\item 'Guyana'\n",
       "\\item 'Guinea-Bissau'\n",
       "\\item 'Guinea'\n",
       "\\item 'Guatemala'\n",
       "\\item 'Grenada'\n",
       "\\item 'Greenland'\n",
       "\\item 'Greece'\n",
       "\\item 'Ghana'\n",
       "\\item 'Germany'\n",
       "\\item 'Georgia{[}h{]}'\n",
       "\\item 'Gambia'\n",
       "\\item 'Gabon'\n",
       "\\item 'France{[}f{]}{[}g{]}'\n",
       "\\item 'Finland'\n",
       "\\item 'Fiji'\n",
       "\\item 'Faroe Islands'\n",
       "\\item 'Ethiopia'\n",
       "\\item 'Eswatini'\n",
       "\\item 'Estonia'\n",
       "\\item 'Equatorial Guinea'\n",
       "\\item 'El Salvador'\n",
       "\\item 'Egypt'\n",
       "\\item 'Ecuador'\n",
       "\\item 'DR Congo'\n",
       "\\item 'Dominican Republic'\n",
       "\\item 'Dominica'\n",
       "\\item 'Djibouti'\n",
       "\\item 'Denmark{[}e{]}'\n",
       "\\item 'Czechia'\n",
       "\\item 'Cyprus{[}d{]}'\n",
       "\\item 'Cuba'\n",
       "\\item 'Croatia'\n",
       "\\item 'Costa Rica'\n",
       "\\item 'Colombia'\n",
       "\\item 'China{[}c{]}'\n",
       "\\item 'Chile'\n",
       "\\item 'Chad'\n",
       "\\item 'Canada'\n",
       "\\item 'Cameroon'\n",
       "\\item 'Cambodia'\n",
       "\\item 'Burundi'\n",
       "\\item 'Burkina Faso'\n",
       "\\item 'Bulgaria'\n",
       "\\item 'Brunei'\n",
       "\\item 'Brazil'\n",
       "\\item 'Botswana'\n",
       "\\item 'Bosnia and Herzegovina'\n",
       "\\item 'Bolivia'\n",
       "\\item 'Bhutan'\n",
       "\\item 'Benin'\n",
       "\\item 'Belize'\n",
       "\\item 'Belgium'\n",
       "\\item 'Belarus'\n",
       "\\item 'Barbados'\n",
       "\\item 'Bangladesh'\n",
       "\\item 'Bahrain'\n",
       "\\item 'Bahamas'\n",
       "\\item 'Azerbaijan'\n",
       "\\item 'Austria'\n",
       "\\item 'Australia'\n",
       "\\item 'Armenia'\n",
       "\\item 'Argentina'\n",
       "\\item 'Antigua and Barbuda'\n",
       "\\item 'Angola'\n",
       "\\item 'Andorra'\n",
       "\\item 'Algeria'\n",
       "\\item 'Albania'\n",
       "\\item 'Afghanistan'\n",
       "\\end{enumerate*}\n"
      ],
      "text/markdown": [
       "1. 'Zimbabwe'\n",
       "2. 'Zambia'\n",
       "3. 'Vietnam'\n",
       "4. 'Venezuela'\n",
       "5. 'Uzbekistan'\n",
       "6. 'Uruguay'\n",
       "7. 'United States'\n",
       "8. 'United Kingdom'\n",
       "9. 'United Arab Emirates'\n",
       "10. 'Ukraine'\n",
       "11. 'Uganda'\n",
       "12. 'Turkey'\n",
       "13. 'Tunisia'\n",
       "14. 'Trinidad and Tobago'\n",
       "15. 'Togo'\n",
       "16. 'Thailand'\n",
       "17. 'Tanzania'\n",
       "18. 'Taiwan[m]'\n",
       "19. 'Switzerland[l]'\n",
       "20. 'Sweden'\n",
       "21. 'Sudan'\n",
       "22. 'Sri Lanka'\n",
       "23. 'Spain'\n",
       "24. 'South Sudan'\n",
       "25. 'South Korea'\n",
       "26. 'South Africa'\n",
       "27. 'Slovenia'\n",
       "28. 'Slovakia'\n",
       "29. 'Singapore'\n",
       "30. 'Serbia'\n",
       "31. 'Senegal'\n",
       "32. 'Saudi Arabia'\n",
       "33. 'San Marino'\n",
       "34. 'Saint Vincent'\n",
       "35. 'Saint Lucia'\n",
       "36. 'Saint Kitts and Nevis'\n",
       "37. 'Rwanda'\n",
       "38. 'Russia'\n",
       "39. 'Romania'\n",
       "40. 'Qatar'\n",
       "41. 'Portugal'\n",
       "42. 'Poland'\n",
       "43. 'Philippines'\n",
       "44. 'Peru'\n",
       "45. 'Paraguay'\n",
       "46. 'Papua New Guinea'\n",
       "47. 'Panama'\n",
       "48. 'Palestine'\n",
       "49. 'Pakistan'\n",
       "50. 'Oman'\n",
       "51. 'Norway'\n",
       "52. 'Northern Cyprus[k]'\n",
       "53. 'North Macedonia'\n",
       "54. 'North Korea'\n",
       "55. 'Nigeria'\n",
       "56. 'Niger'\n",
       "57. 'New Zealand'\n",
       "58. 'New Caledonia'\n",
       "59. 'Netherlands'\n",
       "60. 'Nepal'\n",
       "61. 'Namibia'\n",
       "62. 'Myanmar'\n",
       "63. 'Mozambique'\n",
       "64. 'Morocco'\n",
       "65. 'Montenegro'\n",
       "66. 'Mongolia'\n",
       "67. 'Moldova[j]'\n",
       "68. 'Mexico'\n",
       "69. 'Mauritius'\n",
       "70. 'Mauritania'\n",
       "71. 'Malta'\n",
       "72. 'Mali'\n",
       "73. 'Maldives'\n",
       "74. 'Malaysia'\n",
       "75. 'Malawi'\n",
       "76. 'Madagascar'\n",
       "77. 'Luxembourg[i]'\n",
       "78. 'Lithuania'\n",
       "79. 'Libya'\n",
       "80. 'Liberia'\n",
       "81. 'Lesotho'\n",
       "82. 'Lebanon'\n",
       "83. 'Latvia'\n",
       "84. 'Laos'\n",
       "85. 'Kyrgyzstan'\n",
       "86. 'Kuwait'\n",
       "87. 'Kosovo'\n",
       "88. 'Kenya'\n",
       "89. 'Kazakhstan'\n",
       "90. 'Jordan'\n",
       "91. 'Japan'\n",
       "92. 'Jamaica'\n",
       "93. 'Ivory Coast'\n",
       "94. 'Italy'\n",
       "95. 'Israel'\n",
       "96. 'Ireland'\n",
       "97. 'Iraq'\n",
       "98. 'Iran'\n",
       "99. 'Indonesia'\n",
       "100. 'India'\n",
       "101. 'Iceland'\n",
       "102. 'Hungary'\n",
       "103. 'Honduras'\n",
       "104. 'Haiti'\n",
       "105. 'Guyana'\n",
       "106. 'Guinea-Bissau'\n",
       "107. 'Guinea'\n",
       "108. 'Guatemala'\n",
       "109. 'Grenada'\n",
       "110. 'Greenland'\n",
       "111. 'Greece'\n",
       "112. 'Ghana'\n",
       "113. 'Germany'\n",
       "114. 'Georgia[h]'\n",
       "115. 'Gambia'\n",
       "116. 'Gabon'\n",
       "117. 'France[f][g]'\n",
       "118. 'Finland'\n",
       "119. 'Fiji'\n",
       "120. 'Faroe Islands'\n",
       "121. 'Ethiopia'\n",
       "122. 'Eswatini'\n",
       "123. 'Estonia'\n",
       "124. 'Equatorial Guinea'\n",
       "125. 'El Salvador'\n",
       "126. 'Egypt'\n",
       "127. 'Ecuador'\n",
       "128. 'DR Congo'\n",
       "129. 'Dominican Republic'\n",
       "130. 'Dominica'\n",
       "131. 'Djibouti'\n",
       "132. 'Denmark[e]'\n",
       "133. 'Czechia'\n",
       "134. 'Cyprus[d]'\n",
       "135. 'Cuba'\n",
       "136. 'Croatia'\n",
       "137. 'Costa Rica'\n",
       "138. 'Colombia'\n",
       "139. 'China[c]'\n",
       "140. 'Chile'\n",
       "141. 'Chad'\n",
       "142. 'Canada'\n",
       "143. 'Cameroon'\n",
       "144. 'Cambodia'\n",
       "145. 'Burundi'\n",
       "146. 'Burkina Faso'\n",
       "147. 'Bulgaria'\n",
       "148. 'Brunei'\n",
       "149. 'Brazil'\n",
       "150. 'Botswana'\n",
       "151. 'Bosnia and Herzegovina'\n",
       "152. 'Bolivia'\n",
       "153. 'Bhutan'\n",
       "154. 'Benin'\n",
       "155. 'Belize'\n",
       "156. 'Belgium'\n",
       "157. 'Belarus'\n",
       "158. 'Barbados'\n",
       "159. 'Bangladesh'\n",
       "160. 'Bahrain'\n",
       "161. 'Bahamas'\n",
       "162. 'Azerbaijan'\n",
       "163. 'Austria'\n",
       "164. 'Australia'\n",
       "165. 'Armenia'\n",
       "166. 'Argentina'\n",
       "167. 'Antigua and Barbuda'\n",
       "168. 'Angola'\n",
       "169. 'Andorra'\n",
       "170. 'Algeria'\n",
       "171. 'Albania'\n",
       "172. 'Afghanistan'\n",
       "\n",
       "\n"
      ],
      "text/plain": [
       "  [1] \"Zimbabwe\"               \"Zambia\"                 \"Vietnam\"               \n",
       "  [4] \"Venezuela\"              \"Uzbekistan\"             \"Uruguay\"               \n",
       "  [7] \"United States\"          \"United Kingdom\"         \"United Arab Emirates\"  \n",
       " [10] \"Ukraine\"                \"Uganda\"                 \"Turkey\"                \n",
       " [13] \"Tunisia\"                \"Trinidad and Tobago\"    \"Togo\"                  \n",
       " [16] \"Thailand\"               \"Tanzania\"               \"Taiwan[m]\"             \n",
       " [19] \"Switzerland[l]\"         \"Sweden\"                 \"Sudan\"                 \n",
       " [22] \"Sri Lanka\"              \"Spain\"                  \"South Sudan\"           \n",
       " [25] \"South Korea\"            \"South Africa\"           \"Slovenia\"              \n",
       " [28] \"Slovakia\"               \"Singapore\"              \"Serbia\"                \n",
       " [31] \"Senegal\"                \"Saudi Arabia\"           \"San Marino\"            \n",
       " [34] \"Saint Vincent\"          \"Saint Lucia\"            \"Saint Kitts and Nevis\" \n",
       " [37] \"Rwanda\"                 \"Russia\"                 \"Romania\"               \n",
       " [40] \"Qatar\"                  \"Portugal\"               \"Poland\"                \n",
       " [43] \"Philippines\"            \"Peru\"                   \"Paraguay\"              \n",
       " [46] \"Papua New Guinea\"       \"Panama\"                 \"Palestine\"             \n",
       " [49] \"Pakistan\"               \"Oman\"                   \"Norway\"                \n",
       " [52] \"Northern Cyprus[k]\"     \"North Macedonia\"        \"North Korea\"           \n",
       " [55] \"Nigeria\"                \"Niger\"                  \"New Zealand\"           \n",
       " [58] \"New Caledonia\"          \"Netherlands\"            \"Nepal\"                 \n",
       " [61] \"Namibia\"                \"Myanmar\"                \"Mozambique\"            \n",
       " [64] \"Morocco\"                \"Montenegro\"             \"Mongolia\"              \n",
       " [67] \"Moldova[j]\"             \"Mexico\"                 \"Mauritius\"             \n",
       " [70] \"Mauritania\"             \"Malta\"                  \"Mali\"                  \n",
       " [73] \"Maldives\"               \"Malaysia\"               \"Malawi\"                \n",
       " [76] \"Madagascar\"             \"Luxembourg[i]\"          \"Lithuania\"             \n",
       " [79] \"Libya\"                  \"Liberia\"                \"Lesotho\"               \n",
       " [82] \"Lebanon\"                \"Latvia\"                 \"Laos\"                  \n",
       " [85] \"Kyrgyzstan\"             \"Kuwait\"                 \"Kosovo\"                \n",
       " [88] \"Kenya\"                  \"Kazakhstan\"             \"Jordan\"                \n",
       " [91] \"Japan\"                  \"Jamaica\"                \"Ivory Coast\"           \n",
       " [94] \"Italy\"                  \"Israel\"                 \"Ireland\"               \n",
       " [97] \"Iraq\"                   \"Iran\"                   \"Indonesia\"             \n",
       "[100] \"India\"                  \"Iceland\"                \"Hungary\"               \n",
       "[103] \"Honduras\"               \"Haiti\"                  \"Guyana\"                \n",
       "[106] \"Guinea-Bissau\"          \"Guinea\"                 \"Guatemala\"             \n",
       "[109] \"Grenada\"                \"Greenland\"              \"Greece\"                \n",
       "[112] \"Ghana\"                  \"Germany\"                \"Georgia[h]\"            \n",
       "[115] \"Gambia\"                 \"Gabon\"                  \"France[f][g]\"          \n",
       "[118] \"Finland\"                \"Fiji\"                   \"Faroe Islands\"         \n",
       "[121] \"Ethiopia\"               \"Eswatini\"               \"Estonia\"               \n",
       "[124] \"Equatorial Guinea\"      \"El Salvador\"            \"Egypt\"                 \n",
       "[127] \"Ecuador\"                \"DR Congo\"               \"Dominican Republic\"    \n",
       "[130] \"Dominica\"               \"Djibouti\"               \"Denmark[e]\"            \n",
       "[133] \"Czechia\"                \"Cyprus[d]\"              \"Cuba\"                  \n",
       "[136] \"Croatia\"                \"Costa Rica\"             \"Colombia\"              \n",
       "[139] \"China[c]\"               \"Chile\"                  \"Chad\"                  \n",
       "[142] \"Canada\"                 \"Cameroon\"               \"Cambodia\"              \n",
       "[145] \"Burundi\"                \"Burkina Faso\"           \"Bulgaria\"              \n",
       "[148] \"Brunei\"                 \"Brazil\"                 \"Botswana\"              \n",
       "[151] \"Bosnia and Herzegovina\" \"Bolivia\"                \"Bhutan\"                \n",
       "[154] \"Benin\"                  \"Belize\"                 \"Belgium\"               \n",
       "[157] \"Belarus\"                \"Barbados\"               \"Bangladesh\"            \n",
       "[160] \"Bahrain\"                \"Bahamas\"                \"Azerbaijan\"            \n",
       "[163] \"Austria\"                \"Australia\"              \"Armenia\"               \n",
       "[166] \"Argentina\"              \"Antigua and Barbuda\"    \"Angola\"                \n",
       "[169] \"Andorra\"                \"Algeria\"                \"Albania\"               \n",
       "[172] \"Afghanistan\"           "
      ]
     },
     "metadata": {},
     "output_type": "display_data"
    }
   ],
   "source": [
    "# Get the `country` column\n",
    "country <- covid_data_frame_csv$country\n",
    "# Check its class (should be Factor)\n",
    "cat(\"class is '\",class(country),\"'\\n\")\n",
    "# Convert the country column into character so that you can easily sort them\n",
    "country <- as.character(country)\n",
    "# Sort the countries AtoZ\n",
    "sort(country)\n",
    "# Sort the countries ZtoA\n",
    "sorted_country <- sort(country, decreasing=TRUE)\n",
    "# Print the sorted ZtoA list\n",
    "sorted_country"
   ]
  },
  {
   "cell_type": "markdown",
   "metadata": {},
   "source": [
    "## TASK 7: Identify countries names with a specific pattern\n",
    "\n",
    "The goal of task 7 is using a regular expression to find any countires start with `United`\n"
   ]
  },
  {
   "cell_type": "code",
   "execution_count": 67,
   "metadata": {
    "tags": []
   },
   "outputs": [
    {
     "data": {
      "text/html": [
       "<style>\n",
       ".list-inline {list-style: none; margin:0; padding: 0}\n",
       ".list-inline>li {display: inline-block}\n",
       ".list-inline>li:not(:last-child)::after {content: \"\\00b7\"; padding: 0 .5ex}\n",
       "</style>\n",
       "<ol class=list-inline><li>'United Arab Emirates'</li><li>'United Kingdom'</li><li>'United States'</li></ol>\n"
      ],
      "text/latex": [
       "\\begin{enumerate*}\n",
       "\\item 'United Arab Emirates'\n",
       "\\item 'United Kingdom'\n",
       "\\item 'United States'\n",
       "\\end{enumerate*}\n"
      ],
      "text/markdown": [
       "1. 'United Arab Emirates'\n",
       "2. 'United Kingdom'\n",
       "3. 'United States'\n",
       "\n",
       "\n"
      ],
      "text/plain": [
       "[1] \"United Arab Emirates\" \"United Kingdom\"       \"United States\"       "
      ]
     },
     "metadata": {},
     "output_type": "display_data"
    }
   ],
   "source": [
    "# Use a regular expression `United.+` to find matches\n",
    "matched_country <- grep(\"United.+\", country, value=TRUE)\n",
    "# Print the matched country names\n",
    "matched_country"
   ]
  },
  {
   "cell_type": "markdown",
   "metadata": {},
   "source": [
    "## TASK 8: Pick two countries you are interested, and then review their testing data\n",
    "\n",
    "The goal of task 8 is to compare the COVID-19 test data between two countires, you will need to select two rows from the dataframe, and select `country`, `confirmed`, `confirmed-population-ratio` columns\n"
   ]
  },
  {
   "cell_type": "code",
   "execution_count": 73,
   "metadata": {
    "tags": []
   },
   "outputs": [
    {
     "data": {
      "text/html": [
       "<table>\n",
       "<caption>A data.frame: 1 × 3</caption>\n",
       "<thead>\n",
       "\t<tr><th></th><th scope=col>country</th><th scope=col>confirmed</th><th scope=col>confirmed.population.ratio</th></tr>\n",
       "\t<tr><th></th><th scope=col>&lt;fct&gt;</th><th scope=col>&lt;int&gt;</th><th scope=col>&lt;dbl&gt;</th></tr>\n",
       "</thead>\n",
       "<tbody>\n",
       "\t<tr><th scope=row>165</th><td>United Kingdom</td><td>22232377</td><td>32.9</td></tr>\n",
       "</tbody>\n",
       "</table>\n"
      ],
      "text/latex": [
       "A data.frame: 1 × 3\n",
       "\\begin{tabular}{r|lll}\n",
       "  & country & confirmed & confirmed.population.ratio\\\\\n",
       "  & <fct> & <int> & <dbl>\\\\\n",
       "\\hline\n",
       "\t165 & United Kingdom & 22232377 & 32.9\\\\\n",
       "\\end{tabular}\n"
      ],
      "text/markdown": [
       "\n",
       "A data.frame: 1 × 3\n",
       "\n",
       "| <!--/--> | country &lt;fct&gt; | confirmed &lt;int&gt; | confirmed.population.ratio &lt;dbl&gt; |\n",
       "|---|---|---|---|\n",
       "| 165 | United Kingdom | 22232377 | 32.9 |\n",
       "\n"
      ],
      "text/plain": [
       "    country        confirmed confirmed.population.ratio\n",
       "165 United Kingdom 22232377  32.9                      "
      ]
     },
     "metadata": {},
     "output_type": "display_data"
    },
    {
     "data": {
      "text/html": [
       "<table>\n",
       "<caption>A data.frame: 1 × 3</caption>\n",
       "<thead>\n",
       "\t<tr><th></th><th scope=col>country</th><th scope=col>confirmed</th><th scope=col>confirmed.population.ratio</th></tr>\n",
       "\t<tr><th></th><th scope=col>&lt;fct&gt;</th><th scope=col>&lt;int&gt;</th><th scope=col>&lt;dbl&gt;</th></tr>\n",
       "</thead>\n",
       "<tbody>\n",
       "\t<tr><th scope=row>166</th><td>United States</td><td>90749469</td><td>27.4</td></tr>\n",
       "</tbody>\n",
       "</table>\n"
      ],
      "text/latex": [
       "A data.frame: 1 × 3\n",
       "\\begin{tabular}{r|lll}\n",
       "  & country & confirmed & confirmed.population.ratio\\\\\n",
       "  & <fct> & <int> & <dbl>\\\\\n",
       "\\hline\n",
       "\t166 & United States & 90749469 & 27.4\\\\\n",
       "\\end{tabular}\n"
      ],
      "text/markdown": [
       "\n",
       "A data.frame: 1 × 3\n",
       "\n",
       "| <!--/--> | country &lt;fct&gt; | confirmed &lt;int&gt; | confirmed.population.ratio &lt;dbl&gt; |\n",
       "|---|---|---|---|\n",
       "| 166 | United States | 90749469 | 27.4 |\n",
       "\n"
      ],
      "text/plain": [
       "    country       confirmed confirmed.population.ratio\n",
       "166 United States 90749469  27.4                      "
      ]
     },
     "metadata": {},
     "output_type": "display_data"
    }
   ],
   "source": [
    "# Select a subset (should be only one row) of data frame based on a selected country name and columns\n",
    "uk_data <- covid_data_frame_csv[165, c(\"country\", \"confirmed\", \"confirmed.population.ratio\")]\n",
    "uk_data\n",
    "# Select a subset (should be only one row) of data frame based on a selected country name and columns\n",
    "us_data <- covid_data_frame_csv[166, c(\"country\", \"confirmed\", \"confirmed.population.ratio\")]\n",
    "us_data"
   ]
  },
  {
   "cell_type": "markdown",
   "metadata": {},
   "source": [
    "## TASK 9: Compare which one of the selected countries has a larger ratio of confirmed cases to population\n",
    "\n",
    "The goal of task 9 is to find out which country you have selected before has larger ratio of confirmed cases to population, which may indicate that country has higher COVID-19 infection risk\n"
   ]
  },
  {
   "cell_type": "code",
   "execution_count": 74,
   "metadata": {
    "tags": []
   },
   "outputs": [
    {
     "name": "stdout",
     "output_type": "stream",
     "text": [
      "[1] \"United Kingdom has a larger ratio of confirmed cases to population\"\n"
     ]
    }
   ],
   "source": [
    "# Use if-else statement\n",
    "if (us_data$confirmed.population.ratio > uk_data$confirmed.population.ratio) {\n",
    "   print(\"United State has a larger ratio of confirmed cases to population\")\n",
    "} else {\n",
    "   print(\"United Kingdom has a larger ratio of confirmed cases to population\")\n",
    "}\n"
   ]
  },
  {
   "cell_type": "markdown",
   "metadata": {},
   "source": [
    "## TASK 10: Find countries with confirmed to population ratio rate less than a threshold\n",
    "\n",
    "The goal of task 10 is to find out which countries have the confirmed to population ratio less than 1%, it may indicate the risk of those countries are relatively low\n"
   ]
  },
  {
   "cell_type": "code",
   "execution_count": 81,
   "metadata": {
    "tags": []
   },
   "outputs": [
    {
     "data": {
      "text/html": [
       "<table>\n",
       "<caption>A data.frame: 53 × 7</caption>\n",
       "<thead>\n",
       "\t<tr><th></th><th scope=col>country</th><th scope=col>date</th><th scope=col>tested</th><th scope=col>confirmed</th><th scope=col>confirmed.tested.ratio</th><th scope=col>tested.population.ratio</th><th scope=col>confirmed.population.ratio</th></tr>\n",
       "\t<tr><th></th><th scope=col>&lt;fct&gt;</th><th scope=col>&lt;fct&gt;</th><th scope=col>&lt;dbl&gt;</th><th scope=col>&lt;int&gt;</th><th scope=col>&lt;dbl&gt;</th><th scope=col>&lt;dbl&gt;</th><th scope=col>&lt;dbl&gt;</th></tr>\n",
       "</thead>\n",
       "<tbody>\n",
       "\t<tr><th scope=row>1</th><td>Afghanistan        </td><td>17 Dec 2020</td><td>   154767</td><td>  49621</td><td>32.100</td><td> 0.4000</td><td>0.13000</td></tr>\n",
       "\t<tr><th scope=row>3</th><td>Algeria            </td><td>2 Nov 2020 </td><td>   230553</td><td>  58574</td><td>25.400</td><td> 0.5300</td><td>0.13000</td></tr>\n",
       "\t<tr><th scope=row>5</th><td>Angola             </td><td>2 Feb 2021 </td><td>   399228</td><td>  20981</td><td> 5.300</td><td> 1.3000</td><td>0.06700</td></tr>\n",
       "\t<tr><th scope=row>6</th><td>Antigua and Barbuda</td><td>6 Mar 2021 </td><td>    15268</td><td>    832</td><td> 5.400</td><td>15.9000</td><td>0.86000</td></tr>\n",
       "\t<tr><th scope=row>14</th><td>Bangladesh         </td><td>24 Jul 2021</td><td>  7417714</td><td>1151644</td><td>15.500</td><td> 4.5000</td><td>0.70000</td></tr>\n",
       "\t<tr><th scope=row>19</th><td>Benin              </td><td>4 May 2021 </td><td>   595112</td><td>   7884</td><td> 1.300</td><td> 5.1000</td><td>0.06700</td></tr>\n",
       "\t<tr><th scope=row>25</th><td>Brunei             </td><td>2 Aug 2021 </td><td>   153804</td><td>    338</td><td> 0.220</td><td>33.5000</td><td>0.07400</td></tr>\n",
       "\t<tr><th scope=row>27</th><td>Burkina Faso       </td><td>4 Mar 2021 </td><td>   158777</td><td>  12123</td><td> 7.600</td><td> 0.7600</td><td>0.05800</td></tr>\n",
       "\t<tr><th scope=row>28</th><td>Burundi            </td><td>5 Jan 2021 </td><td>    90019</td><td>    884</td><td> 0.980</td><td> 0.7600</td><td>0.00740</td></tr>\n",
       "\t<tr><th scope=row>29</th><td>Cambodia           </td><td>1 Aug 2021 </td><td>  1812706</td><td>  77914</td><td> 4.300</td><td>11.2000</td><td>0.48000</td></tr>\n",
       "\t<tr><th scope=row>30</th><td>Cameroon           </td><td>18 Feb 2021</td><td>   942685</td><td>  32681</td><td> 3.500</td><td> 3.6000</td><td>0.12000</td></tr>\n",
       "\t<tr><th scope=row>32</th><td>Chad               </td><td>2 Mar 2021 </td><td>    99027</td><td>   4020</td><td> 4.100</td><td> 0.7200</td><td>0.02900</td></tr>\n",
       "\t<tr><th scope=row>34</th><td>China[c]           </td><td>31 Jul 2020</td><td>160000000</td><td>  87655</td><td> 0.055</td><td>11.1000</td><td>0.00610</td></tr>\n",
       "\t<tr><th scope=row>45</th><td>DR Congo           </td><td>28 Feb 2021</td><td>   124838</td><td>  25961</td><td>20.800</td><td> 0.1400</td><td>0.02900</td></tr>\n",
       "\t<tr><th scope=row>47</th><td>Egypt              </td><td>23 Jul 2021</td><td>  3137519</td><td> 283947</td><td> 9.100</td><td> 3.1000</td><td>0.28000</td></tr>\n",
       "\t<tr><th scope=row>52</th><td>Ethiopia           </td><td>24 Jun 2021</td><td>  2981185</td><td> 278446</td><td> 9.300</td><td> 2.6000</td><td>0.24000</td></tr>\n",
       "\t<tr><th scope=row>57</th><td>Gabon              </td><td>23 Jul 2021</td><td>   958807</td><td>  25325</td><td> 2.600</td><td> 3.1000</td><td>0.08200</td></tr>\n",
       "\t<tr><th scope=row>58</th><td>Gambia             </td><td>15 Feb 2021</td><td>    43217</td><td>   4469</td><td>10.300</td><td> 2.0000</td><td>0.21000</td></tr>\n",
       "\t<tr><th scope=row>61</th><td>Ghana              </td><td>3 Jul 2021 </td><td>  1305749</td><td>  96708</td><td> 7.400</td><td> 4.2000</td><td>0.31000</td></tr>\n",
       "\t<tr><th scope=row>64</th><td>Grenada            </td><td>11 May 2021</td><td>    28684</td><td>    161</td><td> 0.560</td><td>25.7000</td><td>0.14000</td></tr>\n",
       "\t<tr><th scope=row>66</th><td>Guinea             </td><td>21 Jul 2021</td><td>   494898</td><td>  24878</td><td> 5.000</td><td> 3.8000</td><td>0.19000</td></tr>\n",
       "\t<tr><th scope=row>67</th><td>Guinea-Bissau      </td><td>7 Jul 2022 </td><td>   145231</td><td>   8400</td><td> 5.800</td><td> 7.7000</td><td>0.45000</td></tr>\n",
       "\t<tr><th scope=row>69</th><td>Haiti              </td><td>26 Nov 2022</td><td>   223475</td><td>  33874</td><td>15.200</td><td> 2.0000</td><td>0.30000</td></tr>\n",
       "\t<tr><th scope=row>80</th><td>Ivory Coast        </td><td>3 Mar 2021 </td><td>   429177</td><td>  33285</td><td> 7.800</td><td> 1.6000</td><td>0.13000</td></tr>\n",
       "\t<tr><th scope=row>82</th><td>Japan              </td><td>1 Mar 2021 </td><td>  8487288</td><td> 432773</td><td> 5.100</td><td> 6.7000</td><td>0.34000</td></tr>\n",
       "\t<tr><th scope=row>85</th><td>Kenya              </td><td>5 Mar 2021 </td><td>  1322806</td><td> 107729</td><td> 8.100</td><td> 2.8000</td><td>0.23000</td></tr>\n",
       "\t<tr><th scope=row>89</th><td>Laos               </td><td>1 Mar 2021 </td><td>   114030</td><td>     45</td><td> 0.039</td><td> 1.6000</td><td>0.00063</td></tr>\n",
       "\t<tr><th scope=row>93</th><td>Liberia            </td><td>17 Jul 2021</td><td>   128246</td><td>   5396</td><td> 4.200</td><td> 2.5000</td><td>0.11000</td></tr>\n",
       "\t<tr><th scope=row>97</th><td>Madagascar         </td><td>19 Feb 2021</td><td>   119608</td><td>  19831</td><td>16.600</td><td> 0.4600</td><td>0.07600</td></tr>\n",
       "\t<tr><th scope=row>98</th><td>Malawi             </td><td>29 Nov 2022</td><td>   624784</td><td>  88086</td><td>14.100</td><td> 3.3000</td><td>0.46000</td></tr>\n",
       "\t<tr><th scope=row>101</th><td>Mali               </td><td>7 Jul 2021 </td><td>   322504</td><td>  14449</td><td> 4.500</td><td> 1.6000</td><td>0.07100</td></tr>\n",
       "\t<tr><th scope=row>103</th><td>Mauritania         </td><td>16 Apr 2021</td><td>   268093</td><td>  18103</td><td> 6.800</td><td> 6.1000</td><td>0.41000</td></tr>\n",
       "\t<tr><th scope=row>104</th><td>Mauritius          </td><td>22 Nov 2020</td><td>   289552</td><td>    494</td><td> 0.170</td><td>22.9000</td><td>0.03900</td></tr>\n",
       "\t<tr><th scope=row>110</th><td>Mozambique         </td><td>22 Jul 2021</td><td>   688570</td><td> 105866</td><td>15.400</td><td> 2.2000</td><td>0.34000</td></tr>\n",
       "\t<tr><th scope=row>111</th><td>Myanmar            </td><td>16 Sep 2021</td><td>  4047680</td><td> 440741</td><td>10.900</td><td> 7.4000</td><td>0.81000</td></tr>\n",
       "\t<tr><th scope=row>115</th><td>New Caledonia      </td><td>3 Sep 2021 </td><td>    41962</td><td>    136</td><td> 0.320</td><td>15.7000</td><td>0.05000</td></tr>\n",
       "\t<tr><th scope=row>117</th><td>Niger              </td><td>22 Feb 2021</td><td>    79321</td><td>   4740</td><td> 6.000</td><td> 0.3500</td><td>0.02100</td></tr>\n",
       "\t<tr><th scope=row>118</th><td>Nigeria            </td><td>28 Feb 2021</td><td>  1544008</td><td> 155657</td><td>10.100</td><td> 0.7500</td><td>0.07600</td></tr>\n",
       "\t<tr><th scope=row>119</th><td>North Korea        </td><td>25 Nov 2020</td><td>    16914</td><td>      0</td><td> 0.000</td><td> 0.0660</td><td>0.00000</td></tr>\n",
       "\t<tr><th scope=row>124</th><td>Pakistan           </td><td>5 Mar 2021 </td><td>  9173593</td><td> 588728</td><td> 6.400</td><td> 4.2000</td><td>0.27000</td></tr>\n",
       "\t<tr><th scope=row>127</th><td>Papua New Guinea   </td><td>17 Feb 2021</td><td>    47490</td><td>    961</td><td> 2.000</td><td> 0.5300</td><td>0.01100</td></tr>\n",
       "\t<tr><th scope=row>136</th><td>Rwanda             </td><td>6 Oct 2021 </td><td>  2885812</td><td>  98209</td><td> 3.400</td><td>22.3000</td><td>0.76000</td></tr>\n",
       "\t<tr><th scope=row>142</th><td>Senegal            </td><td>12 Jul 2021</td><td>   624502</td><td>  46509</td><td> 7.400</td><td> 3.9000</td><td>0.29000</td></tr>\n",
       "\t<tr><th scope=row>148</th><td>South Korea        </td><td>1 Mar 2021 </td><td>  6592010</td><td>  90029</td><td> 1.400</td><td>12.7000</td><td>0.17000</td></tr>\n",
       "\t<tr><th scope=row>149</th><td>South Sudan        </td><td>26 May 2021</td><td>   164472</td><td>  10688</td><td> 6.500</td><td> 1.3000</td><td>0.08400</td></tr>\n",
       "\t<tr><th scope=row>151</th><td>Sri Lanka          </td><td>30 Mar 2021</td><td>  2384745</td><td>  93128</td><td> 3.900</td><td>10.9000</td><td>0.43000</td></tr>\n",
       "\t<tr><th scope=row>152</th><td>Sudan              </td><td>7 Jan 2021 </td><td>   158804</td><td>  23316</td><td>14.700</td><td> 0.3600</td><td>0.05300</td></tr>\n",
       "\t<tr><th scope=row>156</th><td>Tanzania           </td><td>18 Nov 2020</td><td>     3880</td><td>    509</td><td>13.100</td><td> 0.0065</td><td>0.00085</td></tr>\n",
       "\t<tr><th scope=row>157</th><td>Thailand           </td><td>4 Mar 2021 </td><td>  1579597</td><td>  26162</td><td> 1.700</td><td> 2.3000</td><td>0.03800</td></tr>\n",
       "\t<tr><th scope=row>158</th><td>Togo               </td><td>6 Jan 2023 </td><td>   807269</td><td>  39358</td><td> 4.900</td><td> 9.4000</td><td>0.46000</td></tr>\n",
       "\t<tr><th scope=row>162</th><td>Uganda             </td><td>11 Feb 2021</td><td>   852444</td><td>  39979</td><td> 4.700</td><td> 1.9000</td><td>0.08700</td></tr>\n",
       "\t<tr><th scope=row>168</th><td>Uzbekistan         </td><td>7 Sep 2020 </td><td>  2630000</td><td>  43975</td><td> 1.700</td><td> 7.7000</td><td>0.13000</td></tr>\n",
       "\t<tr><th scope=row>169</th><td>Venezuela          </td><td>30 Mar 2021</td><td>  3179074</td><td> 159149</td><td> 5.000</td><td>11.0000</td><td>0.55000</td></tr>\n",
       "</tbody>\n",
       "</table>\n"
      ],
      "text/latex": [
       "A data.frame: 53 × 7\n",
       "\\begin{tabular}{r|lllllll}\n",
       "  & country & date & tested & confirmed & confirmed.tested.ratio & tested.population.ratio & confirmed.population.ratio\\\\\n",
       "  & <fct> & <fct> & <dbl> & <int> & <dbl> & <dbl> & <dbl>\\\\\n",
       "\\hline\n",
       "\t1 & Afghanistan         & 17 Dec 2020 &    154767 &   49621 & 32.100 &  0.4000 & 0.13000\\\\\n",
       "\t3 & Algeria             & 2 Nov 2020  &    230553 &   58574 & 25.400 &  0.5300 & 0.13000\\\\\n",
       "\t5 & Angola              & 2 Feb 2021  &    399228 &   20981 &  5.300 &  1.3000 & 0.06700\\\\\n",
       "\t6 & Antigua and Barbuda & 6 Mar 2021  &     15268 &     832 &  5.400 & 15.9000 & 0.86000\\\\\n",
       "\t14 & Bangladesh          & 24 Jul 2021 &   7417714 & 1151644 & 15.500 &  4.5000 & 0.70000\\\\\n",
       "\t19 & Benin               & 4 May 2021  &    595112 &    7884 &  1.300 &  5.1000 & 0.06700\\\\\n",
       "\t25 & Brunei              & 2 Aug 2021  &    153804 &     338 &  0.220 & 33.5000 & 0.07400\\\\\n",
       "\t27 & Burkina Faso        & 4 Mar 2021  &    158777 &   12123 &  7.600 &  0.7600 & 0.05800\\\\\n",
       "\t28 & Burundi             & 5 Jan 2021  &     90019 &     884 &  0.980 &  0.7600 & 0.00740\\\\\n",
       "\t29 & Cambodia            & 1 Aug 2021  &   1812706 &   77914 &  4.300 & 11.2000 & 0.48000\\\\\n",
       "\t30 & Cameroon            & 18 Feb 2021 &    942685 &   32681 &  3.500 &  3.6000 & 0.12000\\\\\n",
       "\t32 & Chad                & 2 Mar 2021  &     99027 &    4020 &  4.100 &  0.7200 & 0.02900\\\\\n",
       "\t34 & China{[}c{]}            & 31 Jul 2020 & 160000000 &   87655 &  0.055 & 11.1000 & 0.00610\\\\\n",
       "\t45 & DR Congo            & 28 Feb 2021 &    124838 &   25961 & 20.800 &  0.1400 & 0.02900\\\\\n",
       "\t47 & Egypt               & 23 Jul 2021 &   3137519 &  283947 &  9.100 &  3.1000 & 0.28000\\\\\n",
       "\t52 & Ethiopia            & 24 Jun 2021 &   2981185 &  278446 &  9.300 &  2.6000 & 0.24000\\\\\n",
       "\t57 & Gabon               & 23 Jul 2021 &    958807 &   25325 &  2.600 &  3.1000 & 0.08200\\\\\n",
       "\t58 & Gambia              & 15 Feb 2021 &     43217 &    4469 & 10.300 &  2.0000 & 0.21000\\\\\n",
       "\t61 & Ghana               & 3 Jul 2021  &   1305749 &   96708 &  7.400 &  4.2000 & 0.31000\\\\\n",
       "\t64 & Grenada             & 11 May 2021 &     28684 &     161 &  0.560 & 25.7000 & 0.14000\\\\\n",
       "\t66 & Guinea              & 21 Jul 2021 &    494898 &   24878 &  5.000 &  3.8000 & 0.19000\\\\\n",
       "\t67 & Guinea-Bissau       & 7 Jul 2022  &    145231 &    8400 &  5.800 &  7.7000 & 0.45000\\\\\n",
       "\t69 & Haiti               & 26 Nov 2022 &    223475 &   33874 & 15.200 &  2.0000 & 0.30000\\\\\n",
       "\t80 & Ivory Coast         & 3 Mar 2021  &    429177 &   33285 &  7.800 &  1.6000 & 0.13000\\\\\n",
       "\t82 & Japan               & 1 Mar 2021  &   8487288 &  432773 &  5.100 &  6.7000 & 0.34000\\\\\n",
       "\t85 & Kenya               & 5 Mar 2021  &   1322806 &  107729 &  8.100 &  2.8000 & 0.23000\\\\\n",
       "\t89 & Laos                & 1 Mar 2021  &    114030 &      45 &  0.039 &  1.6000 & 0.00063\\\\\n",
       "\t93 & Liberia             & 17 Jul 2021 &    128246 &    5396 &  4.200 &  2.5000 & 0.11000\\\\\n",
       "\t97 & Madagascar          & 19 Feb 2021 &    119608 &   19831 & 16.600 &  0.4600 & 0.07600\\\\\n",
       "\t98 & Malawi              & 29 Nov 2022 &    624784 &   88086 & 14.100 &  3.3000 & 0.46000\\\\\n",
       "\t101 & Mali                & 7 Jul 2021  &    322504 &   14449 &  4.500 &  1.6000 & 0.07100\\\\\n",
       "\t103 & Mauritania          & 16 Apr 2021 &    268093 &   18103 &  6.800 &  6.1000 & 0.41000\\\\\n",
       "\t104 & Mauritius           & 22 Nov 2020 &    289552 &     494 &  0.170 & 22.9000 & 0.03900\\\\\n",
       "\t110 & Mozambique          & 22 Jul 2021 &    688570 &  105866 & 15.400 &  2.2000 & 0.34000\\\\\n",
       "\t111 & Myanmar             & 16 Sep 2021 &   4047680 &  440741 & 10.900 &  7.4000 & 0.81000\\\\\n",
       "\t115 & New Caledonia       & 3 Sep 2021  &     41962 &     136 &  0.320 & 15.7000 & 0.05000\\\\\n",
       "\t117 & Niger               & 22 Feb 2021 &     79321 &    4740 &  6.000 &  0.3500 & 0.02100\\\\\n",
       "\t118 & Nigeria             & 28 Feb 2021 &   1544008 &  155657 & 10.100 &  0.7500 & 0.07600\\\\\n",
       "\t119 & North Korea         & 25 Nov 2020 &     16914 &       0 &  0.000 &  0.0660 & 0.00000\\\\\n",
       "\t124 & Pakistan            & 5 Mar 2021  &   9173593 &  588728 &  6.400 &  4.2000 & 0.27000\\\\\n",
       "\t127 & Papua New Guinea    & 17 Feb 2021 &     47490 &     961 &  2.000 &  0.5300 & 0.01100\\\\\n",
       "\t136 & Rwanda              & 6 Oct 2021  &   2885812 &   98209 &  3.400 & 22.3000 & 0.76000\\\\\n",
       "\t142 & Senegal             & 12 Jul 2021 &    624502 &   46509 &  7.400 &  3.9000 & 0.29000\\\\\n",
       "\t148 & South Korea         & 1 Mar 2021  &   6592010 &   90029 &  1.400 & 12.7000 & 0.17000\\\\\n",
       "\t149 & South Sudan         & 26 May 2021 &    164472 &   10688 &  6.500 &  1.3000 & 0.08400\\\\\n",
       "\t151 & Sri Lanka           & 30 Mar 2021 &   2384745 &   93128 &  3.900 & 10.9000 & 0.43000\\\\\n",
       "\t152 & Sudan               & 7 Jan 2021  &    158804 &   23316 & 14.700 &  0.3600 & 0.05300\\\\\n",
       "\t156 & Tanzania            & 18 Nov 2020 &      3880 &     509 & 13.100 &  0.0065 & 0.00085\\\\\n",
       "\t157 & Thailand            & 4 Mar 2021  &   1579597 &   26162 &  1.700 &  2.3000 & 0.03800\\\\\n",
       "\t158 & Togo                & 6 Jan 2023  &    807269 &   39358 &  4.900 &  9.4000 & 0.46000\\\\\n",
       "\t162 & Uganda              & 11 Feb 2021 &    852444 &   39979 &  4.700 &  1.9000 & 0.08700\\\\\n",
       "\t168 & Uzbekistan          & 7 Sep 2020  &   2630000 &   43975 &  1.700 &  7.7000 & 0.13000\\\\\n",
       "\t169 & Venezuela           & 30 Mar 2021 &   3179074 &  159149 &  5.000 & 11.0000 & 0.55000\\\\\n",
       "\\end{tabular}\n"
      ],
      "text/markdown": [
       "\n",
       "A data.frame: 53 × 7\n",
       "\n",
       "| <!--/--> | country &lt;fct&gt; | date &lt;fct&gt; | tested &lt;dbl&gt; | confirmed &lt;int&gt; | confirmed.tested.ratio &lt;dbl&gt; | tested.population.ratio &lt;dbl&gt; | confirmed.population.ratio &lt;dbl&gt; |\n",
       "|---|---|---|---|---|---|---|---|\n",
       "| 1 | Afghanistan         | 17 Dec 2020 |    154767 |   49621 | 32.100 |  0.4000 | 0.13000 |\n",
       "| 3 | Algeria             | 2 Nov 2020  |    230553 |   58574 | 25.400 |  0.5300 | 0.13000 |\n",
       "| 5 | Angola              | 2 Feb 2021  |    399228 |   20981 |  5.300 |  1.3000 | 0.06700 |\n",
       "| 6 | Antigua and Barbuda | 6 Mar 2021  |     15268 |     832 |  5.400 | 15.9000 | 0.86000 |\n",
       "| 14 | Bangladesh          | 24 Jul 2021 |   7417714 | 1151644 | 15.500 |  4.5000 | 0.70000 |\n",
       "| 19 | Benin               | 4 May 2021  |    595112 |    7884 |  1.300 |  5.1000 | 0.06700 |\n",
       "| 25 | Brunei              | 2 Aug 2021  |    153804 |     338 |  0.220 | 33.5000 | 0.07400 |\n",
       "| 27 | Burkina Faso        | 4 Mar 2021  |    158777 |   12123 |  7.600 |  0.7600 | 0.05800 |\n",
       "| 28 | Burundi             | 5 Jan 2021  |     90019 |     884 |  0.980 |  0.7600 | 0.00740 |\n",
       "| 29 | Cambodia            | 1 Aug 2021  |   1812706 |   77914 |  4.300 | 11.2000 | 0.48000 |\n",
       "| 30 | Cameroon            | 18 Feb 2021 |    942685 |   32681 |  3.500 |  3.6000 | 0.12000 |\n",
       "| 32 | Chad                | 2 Mar 2021  |     99027 |    4020 |  4.100 |  0.7200 | 0.02900 |\n",
       "| 34 | China[c]            | 31 Jul 2020 | 160000000 |   87655 |  0.055 | 11.1000 | 0.00610 |\n",
       "| 45 | DR Congo            | 28 Feb 2021 |    124838 |   25961 | 20.800 |  0.1400 | 0.02900 |\n",
       "| 47 | Egypt               | 23 Jul 2021 |   3137519 |  283947 |  9.100 |  3.1000 | 0.28000 |\n",
       "| 52 | Ethiopia            | 24 Jun 2021 |   2981185 |  278446 |  9.300 |  2.6000 | 0.24000 |\n",
       "| 57 | Gabon               | 23 Jul 2021 |    958807 |   25325 |  2.600 |  3.1000 | 0.08200 |\n",
       "| 58 | Gambia              | 15 Feb 2021 |     43217 |    4469 | 10.300 |  2.0000 | 0.21000 |\n",
       "| 61 | Ghana               | 3 Jul 2021  |   1305749 |   96708 |  7.400 |  4.2000 | 0.31000 |\n",
       "| 64 | Grenada             | 11 May 2021 |     28684 |     161 |  0.560 | 25.7000 | 0.14000 |\n",
       "| 66 | Guinea              | 21 Jul 2021 |    494898 |   24878 |  5.000 |  3.8000 | 0.19000 |\n",
       "| 67 | Guinea-Bissau       | 7 Jul 2022  |    145231 |    8400 |  5.800 |  7.7000 | 0.45000 |\n",
       "| 69 | Haiti               | 26 Nov 2022 |    223475 |   33874 | 15.200 |  2.0000 | 0.30000 |\n",
       "| 80 | Ivory Coast         | 3 Mar 2021  |    429177 |   33285 |  7.800 |  1.6000 | 0.13000 |\n",
       "| 82 | Japan               | 1 Mar 2021  |   8487288 |  432773 |  5.100 |  6.7000 | 0.34000 |\n",
       "| 85 | Kenya               | 5 Mar 2021  |   1322806 |  107729 |  8.100 |  2.8000 | 0.23000 |\n",
       "| 89 | Laos                | 1 Mar 2021  |    114030 |      45 |  0.039 |  1.6000 | 0.00063 |\n",
       "| 93 | Liberia             | 17 Jul 2021 |    128246 |    5396 |  4.200 |  2.5000 | 0.11000 |\n",
       "| 97 | Madagascar          | 19 Feb 2021 |    119608 |   19831 | 16.600 |  0.4600 | 0.07600 |\n",
       "| 98 | Malawi              | 29 Nov 2022 |    624784 |   88086 | 14.100 |  3.3000 | 0.46000 |\n",
       "| 101 | Mali                | 7 Jul 2021  |    322504 |   14449 |  4.500 |  1.6000 | 0.07100 |\n",
       "| 103 | Mauritania          | 16 Apr 2021 |    268093 |   18103 |  6.800 |  6.1000 | 0.41000 |\n",
       "| 104 | Mauritius           | 22 Nov 2020 |    289552 |     494 |  0.170 | 22.9000 | 0.03900 |\n",
       "| 110 | Mozambique          | 22 Jul 2021 |    688570 |  105866 | 15.400 |  2.2000 | 0.34000 |\n",
       "| 111 | Myanmar             | 16 Sep 2021 |   4047680 |  440741 | 10.900 |  7.4000 | 0.81000 |\n",
       "| 115 | New Caledonia       | 3 Sep 2021  |     41962 |     136 |  0.320 | 15.7000 | 0.05000 |\n",
       "| 117 | Niger               | 22 Feb 2021 |     79321 |    4740 |  6.000 |  0.3500 | 0.02100 |\n",
       "| 118 | Nigeria             | 28 Feb 2021 |   1544008 |  155657 | 10.100 |  0.7500 | 0.07600 |\n",
       "| 119 | North Korea         | 25 Nov 2020 |     16914 |       0 |  0.000 |  0.0660 | 0.00000 |\n",
       "| 124 | Pakistan            | 5 Mar 2021  |   9173593 |  588728 |  6.400 |  4.2000 | 0.27000 |\n",
       "| 127 | Papua New Guinea    | 17 Feb 2021 |     47490 |     961 |  2.000 |  0.5300 | 0.01100 |\n",
       "| 136 | Rwanda              | 6 Oct 2021  |   2885812 |   98209 |  3.400 | 22.3000 | 0.76000 |\n",
       "| 142 | Senegal             | 12 Jul 2021 |    624502 |   46509 |  7.400 |  3.9000 | 0.29000 |\n",
       "| 148 | South Korea         | 1 Mar 2021  |   6592010 |   90029 |  1.400 | 12.7000 | 0.17000 |\n",
       "| 149 | South Sudan         | 26 May 2021 |    164472 |   10688 |  6.500 |  1.3000 | 0.08400 |\n",
       "| 151 | Sri Lanka           | 30 Mar 2021 |   2384745 |   93128 |  3.900 | 10.9000 | 0.43000 |\n",
       "| 152 | Sudan               | 7 Jan 2021  |    158804 |   23316 | 14.700 |  0.3600 | 0.05300 |\n",
       "| 156 | Tanzania            | 18 Nov 2020 |      3880 |     509 | 13.100 |  0.0065 | 0.00085 |\n",
       "| 157 | Thailand            | 4 Mar 2021  |   1579597 |   26162 |  1.700 |  2.3000 | 0.03800 |\n",
       "| 158 | Togo                | 6 Jan 2023  |    807269 |   39358 |  4.900 |  9.4000 | 0.46000 |\n",
       "| 162 | Uganda              | 11 Feb 2021 |    852444 |   39979 |  4.700 |  1.9000 | 0.08700 |\n",
       "| 168 | Uzbekistan          | 7 Sep 2020  |   2630000 |   43975 |  1.700 |  7.7000 | 0.13000 |\n",
       "| 169 | Venezuela           | 30 Mar 2021 |   3179074 |  159149 |  5.000 | 11.0000 | 0.55000 |\n",
       "\n"
      ],
      "text/plain": [
       "    country             date        tested    confirmed confirmed.tested.ratio\n",
       "1   Afghanistan         17 Dec 2020    154767   49621   32.100                \n",
       "3   Algeria             2 Nov 2020     230553   58574   25.400                \n",
       "5   Angola              2 Feb 2021     399228   20981    5.300                \n",
       "6   Antigua and Barbuda 6 Mar 2021      15268     832    5.400                \n",
       "14  Bangladesh          24 Jul 2021   7417714 1151644   15.500                \n",
       "19  Benin               4 May 2021     595112    7884    1.300                \n",
       "25  Brunei              2 Aug 2021     153804     338    0.220                \n",
       "27  Burkina Faso        4 Mar 2021     158777   12123    7.600                \n",
       "28  Burundi             5 Jan 2021      90019     884    0.980                \n",
       "29  Cambodia            1 Aug 2021    1812706   77914    4.300                \n",
       "30  Cameroon            18 Feb 2021    942685   32681    3.500                \n",
       "32  Chad                2 Mar 2021      99027    4020    4.100                \n",
       "34  China[c]            31 Jul 2020 160000000   87655    0.055                \n",
       "45  DR Congo            28 Feb 2021    124838   25961   20.800                \n",
       "47  Egypt               23 Jul 2021   3137519  283947    9.100                \n",
       "52  Ethiopia            24 Jun 2021   2981185  278446    9.300                \n",
       "57  Gabon               23 Jul 2021    958807   25325    2.600                \n",
       "58  Gambia              15 Feb 2021     43217    4469   10.300                \n",
       "61  Ghana               3 Jul 2021    1305749   96708    7.400                \n",
       "64  Grenada             11 May 2021     28684     161    0.560                \n",
       "66  Guinea              21 Jul 2021    494898   24878    5.000                \n",
       "67  Guinea-Bissau       7 Jul 2022     145231    8400    5.800                \n",
       "69  Haiti               26 Nov 2022    223475   33874   15.200                \n",
       "80  Ivory Coast         3 Mar 2021     429177   33285    7.800                \n",
       "82  Japan               1 Mar 2021    8487288  432773    5.100                \n",
       "85  Kenya               5 Mar 2021    1322806  107729    8.100                \n",
       "89  Laos                1 Mar 2021     114030      45    0.039                \n",
       "93  Liberia             17 Jul 2021    128246    5396    4.200                \n",
       "97  Madagascar          19 Feb 2021    119608   19831   16.600                \n",
       "98  Malawi              29 Nov 2022    624784   88086   14.100                \n",
       "101 Mali                7 Jul 2021     322504   14449    4.500                \n",
       "103 Mauritania          16 Apr 2021    268093   18103    6.800                \n",
       "104 Mauritius           22 Nov 2020    289552     494    0.170                \n",
       "110 Mozambique          22 Jul 2021    688570  105866   15.400                \n",
       "111 Myanmar             16 Sep 2021   4047680  440741   10.900                \n",
       "115 New Caledonia       3 Sep 2021      41962     136    0.320                \n",
       "117 Niger               22 Feb 2021     79321    4740    6.000                \n",
       "118 Nigeria             28 Feb 2021   1544008  155657   10.100                \n",
       "119 North Korea         25 Nov 2020     16914       0    0.000                \n",
       "124 Pakistan            5 Mar 2021    9173593  588728    6.400                \n",
       "127 Papua New Guinea    17 Feb 2021     47490     961    2.000                \n",
       "136 Rwanda              6 Oct 2021    2885812   98209    3.400                \n",
       "142 Senegal             12 Jul 2021    624502   46509    7.400                \n",
       "148 South Korea         1 Mar 2021    6592010   90029    1.400                \n",
       "149 South Sudan         26 May 2021    164472   10688    6.500                \n",
       "151 Sri Lanka           30 Mar 2021   2384745   93128    3.900                \n",
       "152 Sudan               7 Jan 2021     158804   23316   14.700                \n",
       "156 Tanzania            18 Nov 2020      3880     509   13.100                \n",
       "157 Thailand            4 Mar 2021    1579597   26162    1.700                \n",
       "158 Togo                6 Jan 2023     807269   39358    4.900                \n",
       "162 Uganda              11 Feb 2021    852444   39979    4.700                \n",
       "168 Uzbekistan          7 Sep 2020    2630000   43975    1.700                \n",
       "169 Venezuela           30 Mar 2021   3179074  159149    5.000                \n",
       "    tested.population.ratio confirmed.population.ratio\n",
       "1    0.4000                 0.13000                   \n",
       "3    0.5300                 0.13000                   \n",
       "5    1.3000                 0.06700                   \n",
       "6   15.9000                 0.86000                   \n",
       "14   4.5000                 0.70000                   \n",
       "19   5.1000                 0.06700                   \n",
       "25  33.5000                 0.07400                   \n",
       "27   0.7600                 0.05800                   \n",
       "28   0.7600                 0.00740                   \n",
       "29  11.2000                 0.48000                   \n",
       "30   3.6000                 0.12000                   \n",
       "32   0.7200                 0.02900                   \n",
       "34  11.1000                 0.00610                   \n",
       "45   0.1400                 0.02900                   \n",
       "47   3.1000                 0.28000                   \n",
       "52   2.6000                 0.24000                   \n",
       "57   3.1000                 0.08200                   \n",
       "58   2.0000                 0.21000                   \n",
       "61   4.2000                 0.31000                   \n",
       "64  25.7000                 0.14000                   \n",
       "66   3.8000                 0.19000                   \n",
       "67   7.7000                 0.45000                   \n",
       "69   2.0000                 0.30000                   \n",
       "80   1.6000                 0.13000                   \n",
       "82   6.7000                 0.34000                   \n",
       "85   2.8000                 0.23000                   \n",
       "89   1.6000                 0.00063                   \n",
       "93   2.5000                 0.11000                   \n",
       "97   0.4600                 0.07600                   \n",
       "98   3.3000                 0.46000                   \n",
       "101  1.6000                 0.07100                   \n",
       "103  6.1000                 0.41000                   \n",
       "104 22.9000                 0.03900                   \n",
       "110  2.2000                 0.34000                   \n",
       "111  7.4000                 0.81000                   \n",
       "115 15.7000                 0.05000                   \n",
       "117  0.3500                 0.02100                   \n",
       "118  0.7500                 0.07600                   \n",
       "119  0.0660                 0.00000                   \n",
       "124  4.2000                 0.27000                   \n",
       "127  0.5300                 0.01100                   \n",
       "136 22.3000                 0.76000                   \n",
       "142  3.9000                 0.29000                   \n",
       "148 12.7000                 0.17000                   \n",
       "149  1.3000                 0.08400                   \n",
       "151 10.9000                 0.43000                   \n",
       "152  0.3600                 0.05300                   \n",
       "156  0.0065                 0.00085                   \n",
       "157  2.3000                 0.03800                   \n",
       "158  9.4000                 0.46000                   \n",
       "162  1.9000                 0.08700                   \n",
       "168  7.7000                 0.13000                   \n",
       "169 11.0000                 0.55000                   "
      ]
     },
     "metadata": {},
     "output_type": "display_data"
    }
   ],
   "source": [
    "# Get a subset of any countries with `confirmed.population.ratio` less than the threshold\n",
    "covid_data_frame_csv[covid_data_frame_csv$confirmed.population.ratio < 1, ]"
   ]
  },
  {
   "cell_type": "code",
   "execution_count": null,
   "metadata": {},
   "outputs": [],
   "source": []
  }
 ],
 "metadata": {
  "kernelspec": {
   "display_name": "R",
   "language": "R",
   "name": "conda-env-r-r"
  },
  "language_info": {
   "codemirror_mode": "r",
   "file_extension": ".r",
   "mimetype": "text/x-r-source",
   "name": "R",
   "pygments_lexer": "r",
   "version": "3.5.1"
  }
 },
 "nbformat": 4,
 "nbformat_minor": 4
}
